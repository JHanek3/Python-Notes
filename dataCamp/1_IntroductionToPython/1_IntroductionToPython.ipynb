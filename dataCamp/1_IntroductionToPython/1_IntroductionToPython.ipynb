{
 "cells": [
  {
   "attachments": {},
   "cell_type": "markdown",
   "metadata": {},
   "source": [
    "# Introduction to Python\n",
    "Took the Programming asssessment and scored 152, labelled as 95th percentile.<br/><br/>\n",
    "Knowledge Summary:\n",
    "- Efficient Coding 2/2\n",
    "- Object-Oriented Programming 2/2\n",
    "- Functions 5/5 <br/>\n",
    "\n",
    "Skill Gaps:\n",
    "- Data Structures: 2/4\n",
    "- Conditionals and Control Structures 1/2"
   ]
  },
  {
   "cell_type": "code",
   "execution_count": 46,
   "metadata": {},
   "outputs": [],
   "source": [
    "\n",
    "# Question 1 Complete the function\n",
    "# Answer they didn't have hours and minutes in the parameters\n",
    "def time_to_seconds(hours, minutes):\n",
    "    return hours * 60 * 60 + minutes * 60\n",
    "\n",
    "assert time_to_seconds(1,50) == 6600"
   ]
  },
  {
   "cell_type": "code",
   "execution_count": 47,
   "metadata": {},
   "outputs": [],
   "source": [
    "# Question 2, Complete the code to return the output\n",
    "# Answer Initialize, v as class Planet with name ('venus')\n",
    "\n",
    "class Planet:\n",
    "    def __init__(self, name):\n",
    "        self.name = name\n",
    "\n",
    "v = Planet('venus')\n",
    "\n",
    "assert v.name == 'venus'"
   ]
  },
  {
   "cell_type": "code",
   "execution_count": 48,
   "metadata": {},
   "outputs": [],
   "source": [
    "# Question 3, convert a for loop to list comprehension\n",
    "# Answer use list comprehension\n",
    "vals = [25, 30, 33, 35, 40, 180]\n",
    "new_vals = []\n",
    "for val in vals:\n",
    "    new_vals.append(val + 32)\n",
    "\n",
    "new_vals = [x + 32 for x in vals]\n",
    "assert new_vals == [57,62,65,67,72,212]"
   ]
  },
  {
   "cell_type": "code",
   "execution_count": 49,
   "metadata": {},
   "outputs": [],
   "source": [
    "# Question 4, any amount of arguments\n",
    "# Answer, *args\n",
    "def add_many(*args):\n",
    "    s = 0\n",
    "    for n in args:\n",
    "        s += n\n",
    "    return s\n",
    "\n",
    "assert add_many(100,50,3) == 153"
   ]
  },
  {
   "cell_type": "code",
   "execution_count": 50,
   "metadata": {},
   "outputs": [],
   "source": [
    "# Question 5, set methods\n",
    "# Answer got this wrong, I didn't remember all of the set methods\n",
    "a = {1, 2, 3, 4}\n",
    "b = {3, 4, 5, 6}\n",
    "\n",
    "# not a.set(b)\n",
    "assert a.intersection(b) == {3,4}"
   ]
  },
  {
   "cell_type": "code",
   "execution_count": 51,
   "metadata": {},
   "outputs": [],
   "source": [
    "# Question 6, list comprehension\n",
    "# Answer got this wrong, my head got stuck trying to append to a non-existent list\n",
    "\n",
    "# not [a.append(i) for i in range(5) if a > 2]\n",
    "assert [i for i in range(5) if i > 2] == [3,4]\n"
   ]
  },
  {
   "cell_type": "code",
   "execution_count": 52,
   "metadata": {},
   "outputs": [
    {
     "name": "stdout",
     "output_type": "stream",
     "text": [
      "\n",
      "    I know how to interact with the docstrings of a function.\n",
      "    \n"
     ]
    }
   ],
   "source": [
    "# Question 7, how to get the doc strings of a function\n",
    "# Answer .__doc__\n",
    "def fun_docs():\n",
    "    \"\"\"\n",
    "    I know how to interact with the docstrings of a function.\n",
    "    \"\"\"\n",
    "    return None\n",
    "\n",
    "print(fun_docs.__doc__)"
   ]
  },
  {
   "cell_type": "code",
   "execution_count": 53,
   "metadata": {},
   "outputs": [
    {
     "name": "stdout",
     "output_type": "stream",
     "text": [
      "30\n",
      "20\n",
      "20\n"
     ]
    }
   ],
   "source": [
    "# Question 8, func() isn't taking this_var as a param, add a line of code so it can modify the value\n",
    "# Answer gloval\n",
    "this_var = 30\n",
    "def func():\n",
    "    global this_var\n",
    "    this_var = 20\n",
    "    print(this_var)\n",
    "\n",
    "print(this_var)\n",
    "func()\n",
    "print(this_var)"
   ]
  },
  {
   "cell_type": "code",
   "execution_count": 54,
   "metadata": {},
   "outputs": [],
   "source": [
    "# Question 9, Child class inheritance\n",
    "# (Astrobody)\n",
    "\n",
    "class AstroBody:\n",
    "    description = 'Natural entity in the observable universe.'\n",
    "\n",
    "class Star(AstroBody):\n",
    "    pass\n",
    "\n",
    "sun = Star()\n",
    "assert sun.description == 'Natural entity in the observable universe.'"
   ]
  },
  {
   "cell_type": "code",
   "execution_count": 55,
   "metadata": {},
   "outputs": [],
   "source": [
    "# Question 10, Set methods\n",
    "# Got this wrong, I forgot my set methods\n",
    "a = {1, 2, 3}\n",
    "b = {4, 5, 6}\n",
    "# not a.**(b)\n",
    "assert a.union(b) == {1,2,3,4,5,6}"
   ]
  },
  {
   "cell_type": "code",
   "execution_count": 56,
   "metadata": {},
   "outputs": [],
   "source": [
    "# Question 11, List Methods. Add an element to the start of the list\n",
    "# Answer insert\n",
    "boardgames = [\n",
    "    'Pandemic', 'Terraforming Mars', 'Brass: Birmingham'\n",
    "]\n",
    "boardgames.insert(0, 'Gloomhaven')\n",
    "\n",
    "assert boardgames == ['Gloomhaven', 'Pandemic', 'Terraforming Mars', 'Brass: Birmingham']"
   ]
  },
  {
   "cell_type": "code",
   "execution_count": 57,
   "metadata": {},
   "outputs": [],
   "source": [
    "# Question 12, List Comprehension with modifying values in the list\n",
    "# Answer, List Comprehension\n",
    "assert [i * 2 for i in range(5)] == [0,2,4,6,8]"
   ]
  },
  {
   "cell_type": "code",
   "execution_count": 58,
   "metadata": {},
   "outputs": [],
   "source": [
    "# Question 13, Sets and overlap\n",
    "# Answer &\n",
    "a = [99, 23, 46, 78, 12, 34, 56, 15, 12, 77, 31, 9, 1]\n",
    "b = [12, 16, 43, 77, 11, 99, 23, 44, 50, 46, 78, 3, 2]\n",
    "\n",
    "assert set(a) & set(b) == {99,12,77,78,46,23}"
   ]
  },
  {
   "cell_type": "code",
   "execution_count": 59,
   "metadata": {},
   "outputs": [],
   "source": [
    "# Question 14, type hints\n",
    "# Answer : ->\n",
    "def add_two(x: int) -> int:\n",
    "    return x + 2\n",
    "\n",
    "assert add_two(1) == 3"
   ]
  },
  {
   "cell_type": "code",
   "execution_count": 60,
   "metadata": {},
   "outputs": [],
   "source": [
    "# Question 15, Add a key value pair to a dict\n",
    "# Answer dict comprehension\n",
    "d = {\n",
    "    'apple': 1,\n",
    "    'banana': 2,\n",
    "    'coconut': 3\n",
    "}\n",
    "d['durian'] = 4\n",
    "\n",
    "assert d == {'apple': 1,'banana': 2,'coconut': 3,'durian': 4}"
   ]
  }
 ],
 "metadata": {
  "kernelspec": {
   "display_name": "Python 3",
   "language": "python",
   "name": "python3"
  },
  "language_info": {
   "codemirror_mode": {
    "name": "ipython",
    "version": 3
   },
   "file_extension": ".py",
   "mimetype": "text/x-python",
   "name": "python",
   "nbconvert_exporter": "python",
   "pygments_lexer": "ipython3",
   "version": "3.10.1"
  },
  "orig_nbformat": 4
 },
 "nbformat": 4,
 "nbformat_minor": 2
}

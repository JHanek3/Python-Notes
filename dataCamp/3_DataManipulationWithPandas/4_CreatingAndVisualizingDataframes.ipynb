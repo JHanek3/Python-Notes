{
 "cells": [
  {
   "cell_type": "code",
   "execution_count": null,
   "metadata": {},
   "outputs": [],
   "source": [
    "\"\"\"\n",
    "Visualizing your data\n",
    "import matplotlib.pyplot as plt\n",
    "    standard alias\n",
    "\n",
    "Histogram\n",
    "    distribution of a numeric variable\n",
    "    .hist()\n",
    "    bars/bins(bins=5)\n",
    "\n",
    "Bar plots can reveal relationships between categorical and numerical variables\n",
    "    group by breed, select weight and then take the mean\n",
    "    .plot(kind=\"bar\")\n",
    "\n",
    "Line plots\n",
    "    Change in numeric values over time\n",
    "    .plot(x. y, kind=\"line\")\n",
    "\n",
    "Rotating axis labels with .plot(rot=x)\n",
    "\n",
    "\n",
    "Scatter plots\n",
    "    Visualizing relationships between two numeric variables\n",
    "    .plot(kind=\"scatter\")\n",
    "\n",
    "Layering Plots\n",
    "    Add a legend\n",
    "    plt.legend([\"F\", \"M\"])\n",
    "    transleucent with (alpha=0.7)\n",
    "\"\"\""
   ]
  },
  {
   "cell_type": "code",
   "execution_count": 6,
   "metadata": {},
   "outputs": [
    {
     "name": "stdout",
     "output_type": "stream",
     "text": [
      "         date          type  year  avg_price   size    nb_sold\n",
      "0  2015-12-27  conventional  2015       0.95  small  9627000.0\n",
      "1  2015-12-20  conventional  2015       0.98  small  8710000.0\n",
      "2  2015-12-13  conventional  2015       0.93  small  9855000.0\n",
      "3  2015-12-06  conventional  2015       0.89  small  9405000.0\n",
      "4  2015-11-29  conventional  2015       0.99  small  8095000.0\n"
     ]
    },
    {
     "data": {
      "image/png": "[encoded data removed]",
      "text/plain": [
       "<Figure size 432x288 with 1 Axes>"
      ]
     },
     "metadata": {
      "needs_background": "light"
     },
     "output_type": "display_data"
    }
   ],
   "source": [
    "# Which avocado size is most popular?\n",
    "# Couldn't export the full csv, so just took the first 50 rows\n",
    "import pandas as pd\n",
    "avocados = pd.read_csv(\"avocados.csv\")\n",
    "\n",
    "# Import matplotlib.pyplot with alias plt\n",
    "import matplotlib.pyplot as plt\n",
    "\n",
    "# Look at the first few rows of data\n",
    "print(avocados.head())\n",
    "\n",
    "# Get the total number of avocados sold of each size\n",
    "nb_sold_by_size = avocados.groupby(\"size\")[\"nb_sold\"].sum()\n",
    "\n",
    "# Create a bar plot of the number of avocados sold by size\n",
    "nb_sold_by_size.plot(kind=\"bar\")\n",
    "\n",
    "# # Show the plot\n",
    "plt.show()"
   ]
  },
  {
   "cell_type": "code",
   "execution_count": 7,
   "metadata": {},
   "outputs": [
    {
     "name": "stdout",
     "output_type": "stream",
     "text": [
      "date\n",
      "2015-01-18    11860000.0\n",
      "2015-01-25    12170000.0\n",
      "2015-02-01    18930000.0\n",
      "2015-02-08    13310000.0\n",
      "2015-02-15    12630000.0\n",
      "2015-02-22    12630000.0\n",
      "2015-03-01    13280000.0\n",
      "2015-03-08    13010000.0\n",
      "2015-03-15    13150000.0\n",
      "2015-03-22    13700000.0\n",
      "2015-03-29    12520000.0\n",
      "2015-04-05    13940000.0\n",
      "2015-04-12    14790000.0\n",
      "2015-04-19    14250000.0\n",
      "2015-04-26    13830000.0\n",
      "2015-05-03    17790000.0\n",
      "2015-05-10    16220000.0\n",
      "2015-05-17    14620000.0\n",
      "2015-05-24    16000000.0\n",
      "2015-05-31    15500000.0\n",
      "2015-06-07    16530000.0\n",
      "2015-06-14    16380000.0\n",
      "2015-06-21    14700000.0\n",
      "2015-06-28    13300000.0\n",
      "2015-07-05    15640000.0\n",
      "2015-07-12    12380000.0\n",
      "2015-07-19    12740000.0\n",
      "2015-07-26    12200000.0\n",
      "2015-08-02    12120000.0\n",
      "2015-08-09    13000000.0\n",
      "2015-08-16    12680000.0\n",
      "2015-08-23    11280000.0\n",
      "2015-08-30    11650000.0\n",
      "2015-09-06    12570000.0\n",
      "2015-09-13     9875000.0\n",
      "2015-09-20     9422000.0\n",
      "2015-09-27     8454000.0\n",
      "2015-10-04     8354000.0\n",
      "2015-10-11     8828000.0\n",
      "2015-10-18     9162000.0\n",
      "2015-10-25     8684000.0\n",
      "2015-11-01    10140000.0\n",
      "2015-11-08     9991000.0\n",
      "2015-11-15     9908000.0\n",
      "2015-11-22     8572000.0\n",
      "2015-11-29     8095000.0\n",
      "2015-12-06     9405000.0\n",
      "2015-12-13     9855000.0\n",
      "2015-12-20     8710000.0\n",
      "2015-12-27     9627000.0\n",
      "Name: nb_sold, dtype: float64\n"
     ]
    }
   ],
   "source": [
    "# Changes in sales over time\n",
    "# Import matplotlib.pyplot with alias plt\n",
    "import matplotlib.pyplot as plt\n",
    "\n",
    "# Get the total number of avocados sold on each date\n",
    "nb_sold_by_date = avocados.groupby(\"date\")[\"nb_sold\"].sum()\n",
    "\n",
    "# Create a line plot of the number of avocados sold by date\n",
    "nb_sold_by_date.plot(x=\"date\", y=\"nb_sold\", kind=\"line\")\n",
    "\n",
    "# Show the plot\n",
    "plt.show()"
   ]
  },
  {
   "cell_type": "code",
   "execution_count": 8,
   "metadata": {},
   "outputs": [
    {
     "data": {
      "image/png": "[encoded data removed]",
      "text/plain": [
       "<Figure size 432x288 with 1 Axes>"
      ]
     },
     "metadata": {
      "needs_background": "light"
     },
     "output_type": "display_data"
    }
   ],
   "source": [
    "# Avocado supply and demand\n",
    "# Scatter plot of avg_price vs. nb_sold with title\n",
    "avocados.plot(x=\"nb_sold\", y=\"avg_price\", kind=\"scatter\", title=\"Number of avocados sold vs. average price\")\n",
    "\n",
    "# Show the plot\n",
    "plt.show()"
   ]
  },
  {
   "cell_type": "code",
   "execution_count": 11,
   "metadata": {},
   "outputs": [
    {
     "data": {
      "image/png": "[encoded data removed]",
      "text/plain": [
       "<Figure size 432x288 with 1 Axes>"
      ]
     },
     "metadata": {
      "needs_background": "light"
     },
     "output_type": "display_data"
    }
   ],
   "source": [
    "# Price of conventional vs. organic avocados\n",
    "\n",
    "# Histogram of conventional avg_price \n",
    "conventional = avocados[avocados[\"type\"] == \"conventional\"][\"avg_price\"].hist(alpha=0.5, bins=20)\n",
    "\n",
    "# Histogram of organic avg_price\n",
    "conventional = avocados[avocados[\"type\"] == \"organic\"][\"avg_price\"].hist(alpha=0.5, bins=20)\n",
    "\n",
    "plt.legend([\"conventional\", \"organic\"])\n",
    "\n",
    "plt.show()"
   ]
  },
  {
   "cell_type": "code",
   "execution_count": null,
   "metadata": {},
   "outputs": [],
   "source": [
    "\"\"\"\n",
    "Missing Values\n",
    "\n",
    "What's a missing value?\n",
    "    NaN, Not a Number\n",
    "    isna().any(), one value for each variable\n",
    "    isna().sum(), count the number of missing values\n",
    "\n",
    "Removing missing values\n",
    "    .dropna()\n",
    "\n",
    "Replacing missing values\n",
    "    .fillna(param)\n",
    "\"\"\""
   ]
  },
  {
   "cell_type": "code",
   "execution_count": 12,
   "metadata": {},
   "outputs": [
    {
     "name": "stdout",
     "output_type": "stream",
     "text": [
      "     date   type   year  avg_price   size  nb_sold\n",
      "0   False  False  False      False  False    False\n",
      "1   False  False  False      False  False    False\n",
      "2   False  False  False      False  False    False\n",
      "3   False  False  False      False  False    False\n",
      "4   False  False  False      False  False    False\n",
      "5   False  False  False      False  False    False\n",
      "6   False  False  False      False  False    False\n",
      "7   False  False  False      False  False    False\n",
      "8   False  False  False      False  False    False\n",
      "9   False  False  False      False  False    False\n",
      "10  False  False  False      False  False    False\n",
      "11  False  False  False      False  False    False\n",
      "12  False  False  False      False  False    False\n",
      "13  False  False  False      False  False    False\n",
      "14  False  False  False      False  False    False\n",
      "15  False  False  False      False  False    False\n",
      "16  False  False  False      False  False    False\n",
      "17  False  False  False      False  False    False\n",
      "18  False  False  False      False  False    False\n",
      "19  False  False  False      False  False    False\n",
      "20  False  False  False      False  False    False\n",
      "21  False  False  False      False  False    False\n",
      "22  False  False  False      False  False    False\n",
      "23  False  False  False      False  False    False\n",
      "24  False  False  False      False  False    False\n",
      "25  False  False  False      False  False    False\n",
      "26  False  False  False      False  False    False\n",
      "27  False  False  False      False  False    False\n",
      "28  False  False  False      False  False    False\n",
      "29  False  False  False      False  False    False\n",
      "30  False  False  False      False  False    False\n",
      "31  False  False  False      False  False    False\n",
      "32  False  False  False      False  False    False\n",
      "33  False  False  False      False  False    False\n",
      "34  False  False  False      False  False    False\n",
      "35  False  False  False      False  False    False\n",
      "36  False  False  False      False  False    False\n",
      "37  False  False  False      False  False    False\n",
      "38  False  False  False      False  False    False\n",
      "39  False  False  False      False  False    False\n",
      "40  False  False  False      False  False    False\n",
      "41  False  False  False      False  False    False\n",
      "42  False  False  False      False  False    False\n",
      "43  False  False  False      False  False    False\n",
      "44  False  False  False      False  False    False\n",
      "45  False  False  False      False  False    False\n",
      "46  False  False  False      False  False    False\n",
      "47  False  False  False      False  False    False\n",
      "48  False  False  False      False  False    False\n",
      "49  False  False  False      False  False    False\n",
      "date         False\n",
      "type         False\n",
      "year         False\n",
      "avg_price    False\n",
      "size         False\n",
      "nb_sold      False\n",
      "dtype: bool\n"
     ]
    },
    {
     "data": {
      "image/png": "[encoded data removed]",
      "text/plain": [
       "<Figure size 432x288 with 1 Axes>"
      ]
     },
     "metadata": {
      "needs_background": "light"
     },
     "output_type": "display_data"
    }
   ],
   "source": [
    "# Finding missing values\n",
    "# Import matplotlib.pyplot with alias plt\n",
    "import matplotlib.pyplot as plt\n",
    "\n",
    "# Check individual values for missing values\n",
    "print(avocados.isna())\n",
    "\n",
    "# Check each column for missing values\n",
    "print(avocados.isna().any())\n",
    "\n",
    "# Bar plot of missing values by variable\n",
    "avocados.isna().sum().plot(kind=\"bar\")\n",
    "\n",
    "# Show plot\n",
    "plt.show()"
   ]
  },
  {
   "cell_type": "code",
   "execution_count": 13,
   "metadata": {},
   "outputs": [
    {
     "name": "stdout",
     "output_type": "stream",
     "text": [
      "date         0\n",
      "type         0\n",
      "year         0\n",
      "avg_price    0\n",
      "size         0\n",
      "nb_sold      0\n",
      "dtype: int64\n"
     ]
    }
   ],
   "source": [
    "# Removing missing values\n",
    "# Remove rows with missing values\n",
    "avocados_complete = avocados.dropna()\n",
    "\n",
    "# Check if any columns contain missing values\n",
    "print(avocados_complete.isna().any())"
   ]
  },
  {
   "cell_type": "code",
   "execution_count": 15,
   "metadata": {},
   "outputs": [
    {
     "ename": "KeyError",
     "evalue": "'small_sold'",
     "output_type": "error",
     "traceback": [
      "\u001b[1;31m---------------------------------------------------------------------------\u001b[0m",
      "\u001b[1;31mKeyError\u001b[0m                                  Traceback (most recent call last)",
      "File \u001b[1;32mc:\\Python310\\lib\\site-packages\\pandas\\core\\indexes\\base.py:3361\u001b[0m, in \u001b[0;36mIndex.get_loc\u001b[1;34m(self, key, method, tolerance)\u001b[0m\n\u001b[0;32m   3360\u001b[0m \u001b[39mtry\u001b[39;00m:\n\u001b[1;32m-> 3361\u001b[0m     \u001b[39mreturn\u001b[39;00m \u001b[39mself\u001b[39;49m\u001b[39m.\u001b[39;49m_engine\u001b[39m.\u001b[39;49mget_loc(casted_key)\n\u001b[0;32m   3362\u001b[0m \u001b[39mexcept\u001b[39;00m \u001b[39mKeyError\u001b[39;00m \u001b[39mas\u001b[39;00m err:\n",
      "File \u001b[1;32mc:\\Python310\\lib\\site-packages\\pandas\\_libs\\index.pyx:76\u001b[0m, in \u001b[0;36mpandas._libs.index.IndexEngine.get_loc\u001b[1;34m()\u001b[0m\n",
      "File \u001b[1;32mc:\\Python310\\lib\\site-packages\\pandas\\_libs\\index.pyx:108\u001b[0m, in \u001b[0;36mpandas._libs.index.IndexEngine.get_loc\u001b[1;34m()\u001b[0m\n",
      "File \u001b[1;32mpandas\\_libs\\hashtable_class_helper.pxi:5198\u001b[0m, in \u001b[0;36mpandas._libs.hashtable.PyObjectHashTable.get_item\u001b[1;34m()\u001b[0m\n",
      "File \u001b[1;32mpandas\\_libs\\hashtable_class_helper.pxi:5206\u001b[0m, in \u001b[0;36mpandas._libs.hashtable.PyObjectHashTable.get_item\u001b[1;34m()\u001b[0m\n",
      "\u001b[1;31mKeyError\u001b[0m: 'small_sold'",
      "\nThe above exception was the direct cause of the following exception:\n",
      "\u001b[1;31mKeyError\u001b[0m                                  Traceback (most recent call last)",
      "\u001b[1;32mc:\\Users\\JHanek\\OneDrive - Continental Electrical Construction Co\\Desktop\\pyNotes\\dataCamp\\3_DataManipulationWithPandas\\4_CreatingAndVisualizingDataframes.ipynb Cell 9\u001b[0m in \u001b[0;36m<module>\u001b[1;34m\u001b[0m\n\u001b[0;32m      <a href='vscode-notebook-cell:/c%3A/Users/JHanek/OneDrive%20-%20Continental%20Electrical%20Construction%20Co/Desktop/pyNotes/dataCamp/3_DataManipulationWithPandas/4_CreatingAndVisualizingDataframes.ipynb#X11sZmlsZQ%3D%3D?line=2'>3</a>\u001b[0m cols_with_missing \u001b[39m=\u001b[39m [\u001b[39m\"\u001b[39m\u001b[39msmall_sold\u001b[39m\u001b[39m\"\u001b[39m, \u001b[39m\"\u001b[39m\u001b[39mlarge_sold\u001b[39m\u001b[39m\"\u001b[39m, \u001b[39m\"\u001b[39m\u001b[39mxl_sold\u001b[39m\u001b[39m\"\u001b[39m]\n\u001b[0;32m      <a href='vscode-notebook-cell:/c%3A/Users/JHanek/OneDrive%20-%20Continental%20Electrical%20Construction%20Co/Desktop/pyNotes/dataCamp/3_DataManipulationWithPandas/4_CreatingAndVisualizingDataframes.ipynb#X11sZmlsZQ%3D%3D?line=4'>5</a>\u001b[0m \u001b[39m# Create histograms showing the distributions cols_with_missing\u001b[39;00m\n\u001b[1;32m----> <a href='vscode-notebook-cell:/c%3A/Users/JHanek/OneDrive%20-%20Continental%20Electrical%20Construction%20Co/Desktop/pyNotes/dataCamp/3_DataManipulationWithPandas/4_CreatingAndVisualizingDataframes.ipynb#X11sZmlsZQ%3D%3D?line=5'>6</a>\u001b[0m avocados[cols_with_missing[\u001b[39m0\u001b[39;49m]]\u001b[39m.\u001b[39msum()\u001b[39m.\u001b[39mhist()\n\u001b[0;32m      <a href='vscode-notebook-cell:/c%3A/Users/JHanek/OneDrive%20-%20Continental%20Electrical%20Construction%20Co/Desktop/pyNotes/dataCamp/3_DataManipulationWithPandas/4_CreatingAndVisualizingDataframes.ipynb#X11sZmlsZQ%3D%3D?line=7'>8</a>\u001b[0m \u001b[39m# Show the plot\u001b[39;00m\n\u001b[0;32m      <a href='vscode-notebook-cell:/c%3A/Users/JHanek/OneDrive%20-%20Continental%20Electrical%20Construction%20Co/Desktop/pyNotes/dataCamp/3_DataManipulationWithPandas/4_CreatingAndVisualizingDataframes.ipynb#X11sZmlsZQ%3D%3D?line=8'>9</a>\u001b[0m plt\u001b[39m.\u001b[39mshow()\n",
      "File \u001b[1;32mc:\\Python310\\lib\\site-packages\\pandas\\core\\frame.py:3458\u001b[0m, in \u001b[0;36mDataFrame.__getitem__\u001b[1;34m(self, key)\u001b[0m\n\u001b[0;32m   3456\u001b[0m \u001b[39mif\u001b[39;00m \u001b[39mself\u001b[39m\u001b[39m.\u001b[39mcolumns\u001b[39m.\u001b[39mnlevels \u001b[39m>\u001b[39m \u001b[39m1\u001b[39m:\n\u001b[0;32m   3457\u001b[0m     \u001b[39mreturn\u001b[39;00m \u001b[39mself\u001b[39m\u001b[39m.\u001b[39m_getitem_multilevel(key)\n\u001b[1;32m-> 3458\u001b[0m indexer \u001b[39m=\u001b[39m \u001b[39mself\u001b[39;49m\u001b[39m.\u001b[39;49mcolumns\u001b[39m.\u001b[39;49mget_loc(key)\n\u001b[0;32m   3459\u001b[0m \u001b[39mif\u001b[39;00m is_integer(indexer):\n\u001b[0;32m   3460\u001b[0m     indexer \u001b[39m=\u001b[39m [indexer]\n",
      "File \u001b[1;32mc:\\Python310\\lib\\site-packages\\pandas\\core\\indexes\\base.py:3363\u001b[0m, in \u001b[0;36mIndex.get_loc\u001b[1;34m(self, key, method, tolerance)\u001b[0m\n\u001b[0;32m   3361\u001b[0m         \u001b[39mreturn\u001b[39;00m \u001b[39mself\u001b[39m\u001b[39m.\u001b[39m_engine\u001b[39m.\u001b[39mget_loc(casted_key)\n\u001b[0;32m   3362\u001b[0m     \u001b[39mexcept\u001b[39;00m \u001b[39mKeyError\u001b[39;00m \u001b[39mas\u001b[39;00m err:\n\u001b[1;32m-> 3363\u001b[0m         \u001b[39mraise\u001b[39;00m \u001b[39mKeyError\u001b[39;00m(key) \u001b[39mfrom\u001b[39;00m \u001b[39merr\u001b[39;00m\n\u001b[0;32m   3365\u001b[0m \u001b[39mif\u001b[39;00m is_scalar(key) \u001b[39mand\u001b[39;00m isna(key) \u001b[39mand\u001b[39;00m \u001b[39mnot\u001b[39;00m \u001b[39mself\u001b[39m\u001b[39m.\u001b[39mhasnans:\n\u001b[0;32m   3366\u001b[0m     \u001b[39mraise\u001b[39;00m \u001b[39mKeyError\u001b[39;00m(key)\n",
      "\u001b[1;31mKeyError\u001b[0m: 'small_sold'"
     ]
    }
   ],
   "source": [
    "# List the columns with missing values\n",
    "# cols_with_missing = [\"small_sold\", \"large_sold\", \"xl_sold\"]\n",
    "\n",
    "# # Create histograms showing the distributions cols_with_missing\n",
    "# avocados_2016[cols_with_missing].plot(kind=\"hist\")\n",
    "\n",
    "# # Fill in missing values with 0\n",
    "# avocados_filled = avocados_2016.fillna(0)\n",
    "\n",
    "# # Create histograms of the filled columns\n",
    "# avocados_filled[cols_with_missing].hist()\n",
    "\n",
    "# # Show the plot\n",
    "# plt.show()"
   ]
  },
  {
   "cell_type": "code",
   "execution_count": null,
   "metadata": {},
   "outputs": [],
   "source": [
    "\"\"\"\n",
    "Creating DataFrames\n",
    "    Dictionaries\n",
    "        key, value pair\n",
    "\n",
    "From a list of dictionaries\n",
    "    constructed row by row\n",
    "\n",
    "From a dictionary of lists\n",
    "    constructed column by column\n",
    "\n",
    "\"\"\""
   ]
  },
  {
   "cell_type": "code",
   "execution_count": 16,
   "metadata": {},
   "outputs": [
    {
     "name": "stdout",
     "output_type": "stream",
     "text": [
      "         date  small_sold  large_sold\n",
      "0  2019-11-03    10376832     7835071\n",
      "1  2019-11-10    10717154     8561348\n"
     ]
    }
   ],
   "source": [
    "# List of Dictionaries\n",
    "# Create a list of dictionaries with new data\n",
    "avocados_list = [\n",
    "    {\"date\": \"2019-11-03\", \"small_sold\": 10376832, \"large_sold\": 7835071},\n",
    "    {\"date\": \"2019-11-10\", \"small_sold\": 10717154, \"large_sold\": 8561348},\n",
    "]\n",
    "\n",
    "# Convert list into DataFrame\n",
    "avocados_2019 = pd.DataFrame(avocados_list)\n",
    "\n",
    "# Print the new DataFrame\n",
    "print(avocados_2019)"
   ]
  },
  {
   "cell_type": "code",
   "execution_count": 18,
   "metadata": {},
   "outputs": [
    {
     "name": "stdout",
     "output_type": "stream",
     "text": [
      "         date  small_sold  large_sold\n",
      "0  2019-11-17    10859987     7674135\n",
      "1  2019-12-01     9291631     6238096\n"
     ]
    }
   ],
   "source": [
    "# Dictionary of Lists\n",
    "# Create a dictionary of lists with new data\n",
    "avocados_dict = {\n",
    "  \"date\": [\"2019-11-17\", \"2019-12-01\"],\n",
    "  \"small_sold\": [10859987, 9291631],\n",
    "  \"large_sold\": [7674135, 6238096]\n",
    "}\n",
    "\n",
    "# Convert dictionary into DataFrame\n",
    "avocados_2019 = pd.DataFrame(avocados_dict)\n",
    "\n",
    "# Print the new DataFrame\n",
    "print(avocados_2019)"
   ]
  },
  {
   "cell_type": "code",
   "execution_count": null,
   "metadata": {},
   "outputs": [],
   "source": [
    "\"\"\"\n",
    "Reading and Writing CSVs\n",
    "    CommaSeparatedValues\n",
    "    Text file, tabular\n",
    "DataFrame to CSV\n",
    "    .to_csv(filePath)\n",
    "\"\"\""
   ]
  },
  {
   "cell_type": "code",
   "execution_count": null,
   "metadata": {},
   "outputs": [],
   "source": [
    "# # CSV to DataFrame\n",
    "# # From previous steps\n",
    "# airline_bumping = pd.read_csv(\"airline_bumping.csv\")\n",
    "# print(airline_bumping.head())\n",
    "# airline_totals = airline_bumping.groupby(\"airline\")[[\"nb_bumped\", \"total_passengers\"]].sum()\n",
    "# airline_totals[\"bumps_per_10k\"] = airline_totals[\"nb_bumped\"] / airline_totals[\"total_passengers\"] * 10000\n",
    "\n",
    "# # Print airline_totals\n",
    "# print(airline_totals)"
   ]
  },
  {
   "cell_type": "code",
   "execution_count": null,
   "metadata": {},
   "outputs": [],
   "source": [
    "# # DataFrame to CSV\n",
    "# # Create airline_totals_sorted\n",
    "# airline_totals_sorted = airline_totals.sort_values(by=\"bumps_per_10k\", ascending=False)\n",
    "\n",
    "# # Print airline_totals_sorted\n",
    "# print(airline_totals_sorted)\n",
    "\n",
    "# # Save as airline_totals_sorted.csv\n",
    "# airline_totals_sorted.to_csv(\"airline_totals_sorted.csv\")"
   ]
  }
 ],
 "metadata": {
  "kernelspec": {
   "display_name": "Python 3",
   "language": "python",
   "name": "python3"
  },
  "language_info": {
   "codemirror_mode": {
    "name": "ipython",
    "version": 3
   },
   "file_extension": ".py",
   "mimetype": "text/x-python",
   "name": "python",
   "nbconvert_exporter": "python",
   "pygments_lexer": "ipython3",
   "version": "3.10.1"
  },
  "orig_nbformat": 4
 },
 "nbformat": 4,
 "nbformat_minor": 2
}

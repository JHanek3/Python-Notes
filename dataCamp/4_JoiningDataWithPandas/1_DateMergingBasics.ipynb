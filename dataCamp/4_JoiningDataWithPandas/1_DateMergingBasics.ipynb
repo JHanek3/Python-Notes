{
 "cells": [
  {
   "cell_type": "code",
   "execution_count": null,
   "metadata": {},
   "outputs": [],
   "source": [
    "\"\"\"\n",
    "Inner Join\n",
    "    Merging tables look how the two tables are related\n",
    "\n",
    "wards_census wards.merge(census, on='ward')\n",
    "\n",
    "You can even give suffixes\n",
    "    wards_census = wards.merge(censur, on='ward', suffixes=('_ward', '_cen'))\n",
    "\n",
    "The provided datasets are labelled as p files.....great\n",
    "    whats wrong with providing a .csv\n",
    "\"\"\""
   ]
  },
  {
   "cell_type": "code",
   "execution_count": 2,
   "metadata": {},
   "outputs": [],
   "source": [
    "# What column to merge on\n",
    "# Choose the column you would use to merge the two tables on using the .merge() method\n",
    "# on = 'vid' "
   ]
  },
  {
   "cell_type": "code",
   "execution_count": null,
   "metadata": {},
   "outputs": [],
   "source": [
    "# Your first inner join\n",
    "# # Merge the taxi_owners and taxi_veh tables\n",
    "# taxi_own_veh = taxi_owners.merge(taxi_veh, on='vid')\n",
    "\n",
    "# # Print the column names of the taxi_own_veh\n",
    "# print(taxi_own_veh.columns)\n",
    "\n",
    "# # Merge the taxi_owners and taxi_veh tables setting a suffix\n",
    "# taxi_own_veh = taxi_owners.merge(taxi_veh, on='vid', suffixes=('_own', '_veh'))\n",
    "\n",
    "# # Print the column names of taxi_own_veh\n",
    "# print(taxi_own_veh.columns)\n",
    "\n",
    "# # Merge the taxi_owners and taxi_veh tables setting a suffix\n",
    "# taxi_own_veh = taxi_owners.merge(taxi_veh, on='vid', suffixes=('_own','_veh'))\n",
    "\n",
    "# # Print the value_counts to find the most popular fuel_type\n",
    "# print(taxi_own_veh['fuel_type'].value_counts())"
   ]
  },
  {
   "cell_type": "code",
   "execution_count": 3,
   "metadata": {},
   "outputs": [],
   "source": [
    "# Inner joins and number of rows returned\n",
    "# Merge the wards and census tables on the ward column\n",
    "# wards_census = wards.merge(census, on='ward')\n",
    "\n",
    "# # Print the shape of wards_census\n",
    "# print('wards_census table shape:', wards_census.shape)\n",
    "\n",
    "# # Print the first few rows of the wards_altered table to view the change \n",
    "# print(wards_altered[['ward']].head())\n",
    "\n",
    "# # Merge the wards_altered and census tables on the ward column\n",
    "# wards_altered_census = wards_altered.merge(census, on='ward')\n",
    "\n",
    "# # Print the shape of wards_altered_census\n",
    "# print('wards_altered_census table shape:', wards_altered_census.shape)\n",
    "\n",
    "# # Print the first few rows of the census_altered table to view the change \n",
    "# print(census_altered[['ward']].head())\n",
    "\n",
    "# # Merge the wards and census_altered tables on the ward column\n",
    "# wards_census_altered = wards.merge(census_altered, on='ward')\n",
    "\n",
    "# # Print the shape of wards_census_altered\n",
    "# print('wards_census_altered table shape:', wards_census_altered.shape)\n",
    "\n",
    "# .merge() only returns rows where the values match in both tables"
   ]
  },
  {
   "cell_type": "code",
   "execution_count": null,
   "metadata": {},
   "outputs": [],
   "source": [
    "\"\"\"\n",
    "One to many relationships\n",
    "\n",
    "One-To-One = Every row in the left table is related to only one row in the right table\n",
    "One-To-Many = Every row in the left table is related to one or more rows in the right table\n",
    "\n",
    "Wards Table\n",
    "    Within each ward are many businesses\n",
    "\"\"\""
   ]
  },
  {
   "cell_type": "code",
   "execution_count": 4,
   "metadata": {},
   "outputs": [],
   "source": [
    "# One to many classification\n",
    "# The relationship between products and inventory One-to-One (for every product there's likey one total inventory value available)\n",
    "# The relationship between customer and cust_tax_info One-to-One\n",
    "# The relationship between customers and orders One-to-Many\n",
    "# The relationship between products and orders One-to-Many"
   ]
  },
  {
   "cell_type": "code",
   "execution_count": null,
   "metadata": {},
   "outputs": [],
   "source": [
    "# One to many merge\n",
    "# # Merge the licenses and biz_owners table on account\n",
    "# licenses_owners = licenses.merge(biz_owners, on='account')\n",
    "\n",
    "# # Group the results by title then count the number of accounts\n",
    "# counted_df = licenses_owners.groupby('title').agg({'account':'count'})\n",
    "\n",
    "# # Sort the counted_df in desending order\n",
    "# sorted_df = counted_df.sort_values('account', ascending=False)\n",
    "\n",
    "# # Use .head() method to print the first few rows of sorted_df\n",
    "# print(sorted_df.head())"
   ]
  },
  {
   "cell_type": "code",
   "execution_count": null,
   "metadata": {},
   "outputs": [],
   "source": [
    "\"\"\"\n",
    "Merging multiple DataFrames\n",
    "\n",
    "Single merge\n",
    "    grants.merge(licenses, on=['address', 'zip']) \\\n",
    "    .merge(wards, on='ward', suffixes=('_bus','_ward'))\n",
    "\"\"\""
   ]
  },
  {
   "cell_type": "code",
   "execution_count": null,
   "metadata": {},
   "outputs": [],
   "source": [
    "# Total riders in a month\n",
    "# # Merge the ridership and cal tables\n",
    "# ridership_cal = ridership.merge(cal, on=['year', 'month', 'day'])\n",
    "\n",
    "# # Merge the ridership, cal, and stations tables\n",
    "# ridership_cal_stations = ridership.merge(cal, on=['year','month','day']) \\\n",
    "#             \t\t\t\t.merge(stations, on='station_id')\n",
    "\n",
    "# # Merge the ridership, cal, and stations tables\n",
    "# ridership_cal_stations = ridership.merge(cal, on=['year','month','day']) \\\n",
    "# \t\t\t\t\t\t\t.merge(stations, on='station_id')\n",
    "\n",
    "# # Create a filter to filter ridership_cal_stations\n",
    "# filter_criteria = ((ridership_cal_stations['month'] == 7) \n",
    "#                    & (ridership_cal_stations['day_type'] == 'Weekday') \n",
    "#                    & (ridership_cal_stations['station_name'] == 'Wilson'))\n",
    "\n",
    "# # Use .loc and the filter to select for rides\n",
    "# print(ridership_cal_stations.loc[filter_criteria, 'rides'].sum())"
   ]
  },
  {
   "cell_type": "code",
   "execution_count": null,
   "metadata": {},
   "outputs": [],
   "source": [
    "# Three table merge\n",
    "# # Merge licenses and zip_demo, on zip; and merge the wards on ward\n",
    "# licenses_zip_ward = licenses.merge(zip_demo, on='zip') \\\n",
    "#             \t\t\t.merge(wards, on='ward')\n",
    "\n",
    "# # Print the results by alderman and show median income\n",
    "# print(licenses_zip_ward.groupby('alderman').agg({'income':'median'}))"
   ]
  },
  {
   "cell_type": "code",
   "execution_count": null,
   "metadata": {},
   "outputs": [],
   "source": [
    "# Data Mergin Basics\n",
    "# Merge land_use and census and merge result with licenses including suffixes\n",
    "# land_cen_lic = land_use.merge(census, on='ward') \\\n",
    "#                     .merge(licenses, on='ward', suffixes=('_cen','_lic'))\n",
    "\n",
    "# # Group by ward, pop_2010, and vacant, then count the # of accounts\n",
    "# pop_vac_lic = land_cen_lic.groupby(['ward','pop_2010','vacant'], \n",
    "#                                    as_index=False).agg({'account':'count'})\n",
    "\n",
    "# # Sort pop_vac_lic and print the results\n",
    "# sorted_pop_vac_lic = pop_vac_lic.sort_values(['vacant', 'account', 'pop_2010'], \n",
    "#                                              ascending=[False, True, True])\n",
    "\n",
    "# # Print the top few rows of sorted_pop_vac_lic\n",
    "# print(sorted_pop_vac_lic.head())"
   ]
  }
 ],
 "metadata": {
  "kernelspec": {
   "display_name": "Python 3",
   "language": "python",
   "name": "python3"
  },
  "language_info": {
   "codemirror_mode": {
    "name": "ipython",
    "version": 3
   },
   "file_extension": ".py",
   "mimetype": "text/x-python",
   "name": "python",
   "nbconvert_exporter": "python",
   "pygments_lexer": "ipython3",
   "version": "3.10.1"
  },
  "orig_nbformat": 4
 },
 "nbformat": 4,
 "nbformat_minor": 2
}

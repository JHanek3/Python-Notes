{
 "cells": [
  {
   "cell_type": "code",
   "execution_count": null,
   "metadata": {},
   "outputs": [],
   "source": [
    "\"\"\"\n",
    "Filtering joins\n",
    "\n",
    "Mutating joins\n",
    "    Combines data from two tables based on matching observations in both tables\n",
    "\n",
    "Filtering joins\n",
    "    Filter observations from table based on whether or not they match an observation in another table\n",
    "\n",
    "Semi join\n",
    "    Returns the intersection, similar to an inner join\n",
    "    returns only oclumns from the left table and not the right\n",
    "    no duplicates\n",
    "\n",
    "genres.merge(top_tracks, on='gid')\n",
    "genres['gid'].isin(genres_tracks['gid'])\n",
    "    if genre appears, returns a boolean series\n",
    "\n",
    "Anti join\n",
    "    returns the left table, excluding the intersection\n",
    "    returns only columns from the left table and not the right\n",
    "    genres.merge(top_tracks, on='gid', how='left', indicator=True)\n",
    "    genres_tracks.loc[genres_tracks['_merge'] == 'left_only', 'gid']\n",
    "    genres[genres['gid'].isin(gid_list)]\n",
    "\"\"\""
   ]
  },
  {
   "cell_type": "code",
   "execution_count": null,
   "metadata": {},
   "outputs": [],
   "source": [
    "# Steps of a semi join\n",
    "# Merge the left and right tables on key column using an inner join\n",
    "# Search if the key column in the left table is in the merged tables using the .isin() method creating a Boolean Series\n",
    "# Subset the rows of the left table"
   ]
  },
  {
   "cell_type": "code",
   "execution_count": null,
   "metadata": {},
   "outputs": [],
   "source": [
    "# Performing an anti join\n",
    "# Merge employees and top_cust\n",
    "# empl_cust = employees.merge(top_cust, on='srid', \n",
    "#                                  how='left', indicator=True)\n",
    "\n",
    "# # Select the srid column where _merge is left_only\n",
    "# srid_list = empl_cust.loc[empl_cust['_merge'] == 'left_only', 'srid']\n",
    "\n",
    "# # Get employees not working with top customers\n",
    "# print(employees[employees['srid'].isin(srid_list)])"
   ]
  },
  {
   "cell_type": "code",
   "execution_count": null,
   "metadata": {},
   "outputs": [],
   "source": [
    "# Performing a semi join\n",
    "# # Merge the non_mus_tck and top_invoices tables on tid\n",
    "# tracks_invoices = non_mus_tcks.merge(top_invoices, on='tid', how='inner')\n",
    "\n",
    "# # Use .isin() to subset non_mus_tcks to rows with tid in tracks_invoices\n",
    "# top_tracks = non_mus_tcks[non_mus_tcks['tid'].isin(tracks_invoices['tid'])]\n",
    "\n",
    "# # Group the top_tracks by gid and count the tid rows\n",
    "# cnt_by_gid = top_tracks.groupby(['gid'], as_index=False).agg({'tid':'count'})\n",
    "\n",
    "# # Merge the genres table to cnt_by_gid on gid and print\n",
    "# print(cnt_by_gid.merge(genres, on='gid'))"
   ]
  },
  {
   "cell_type": "code",
   "execution_count": null,
   "metadata": {},
   "outputs": [],
   "source": [
    "\"\"\"\n",
    "Concatenate DataFrames together vertically\n",
    "    .concat(), i think this is deprecated, nah that was append\n",
    "\n",
    "Basic Concatenation\n",
    "    same column names\n",
    "    pd.concat([])\n",
    "    axis = 0 is default\n",
    "    index no valuable information\n",
    "        ignore_index = True\n",
    "\n",
    "Setting labels to original tables\n",
    "    pd.concat([inv_jan, inv_feb, inv_mar], ignore_index=False, keys['jan', 'feb', 'mar'])\n",
    "\n",
    "Concatenate tables with different column names\n",
    "    by default will include all columns\n",
    "    sort=True\n",
    "    matching columns\n",
    "    join='inner'\n",
    "    default is join='outer'\n",
    "\"\"\""
   ]
  },
  {
   "cell_type": "code",
   "execution_count": null,
   "metadata": {},
   "outputs": [],
   "source": [
    "# Concatenation Basics\n",
    "# # Concatenate the tracks\n",
    "# tracks_from_albums = pd.concat([tracks_master, tracks_ride, tracks_st],\n",
    "#                                sort=True)\n",
    "# print(tracks_from_albums)\n",
    "\n",
    "# Concatenate the tracks so the index goes from 0 to n-1\n",
    "# tracks_from_albums = pd.concat([tracks_master, tracks_ride, tracks_st],\n",
    "#                                ignore_index=True,\n",
    "#                                sort=True)\n",
    "# print(tracks_from_albums)\n",
    "\n",
    "# # Concatenate the tracks, show only columns names that are in all tables\n",
    "# tracks_from_albums = pd.concat([tracks_master, tracks_ride, tracks_st],\n",
    "#                                join='inner',\n",
    "#                                sort=True)\n",
    "# print(tracks_from_albums)"
   ]
  },
  {
   "cell_type": "code",
   "execution_count": null,
   "metadata": {},
   "outputs": [],
   "source": [
    "# Concatentating with keys\n",
    "# # Concatenate the tables and add keys\n",
    "# inv_jul_thr_sep = pd.concat([inv_jul, inv_aug, inv_sep], \n",
    "#                             keys=['7Jul','8Aug','9Sep'])\n",
    "\n",
    "# # Group the invoices by the index keys and find avg of the total column\n",
    "# avg_inv_by_month = inv_jul_thr_sep.groupby(level=0).agg({'total':'mean'})\n",
    "\n",
    "# # Bar plot of avg_inv_by_month\n",
    "# avg_inv_by_month.plot(kind='bar')\n",
    "# plt.show()"
   ]
  },
  {
   "cell_type": "code",
   "execution_count": null,
   "metadata": {},
   "outputs": [],
   "source": [
    "\"\"\"\n",
    "Verifying Integrity\n",
    "\n",
    "Possible merging issue:\n",
    "    Unintentional one-to-many relationship\n",
    "    Unintentional many-to-many relationship\n",
    "\n",
    "Possible concatenating issue:\n",
    "    Duplicate records possibly unintentionally introduced\n",
    "\n",
    "Validating merges\n",
    "    .merge(validate=None)\n",
    "    'one_to_one', 'one_to_many', 'many_to_one', 'many_to_many'\n",
    "\"\"\""
   ]
  },
  {
   "cell_type": "code",
   "execution_count": null,
   "metadata": {},
   "outputs": [],
   "source": [
    "# Validating a merge\n",
    "# You have been given 2 tables, artists, and albums. \n",
    "# Use the IPython shell to merge them using artists.merge(albums, on='artid').head(). Adjust the validate argument to answer which statement is False.\n",
    "# Many to one is false"
   ]
  },
  {
   "cell_type": "code",
   "execution_count": null,
   "metadata": {},
   "outputs": [],
   "source": [
    "# Concatenate and merge to find common songs\n",
    "# # Concatenate the classic tables vertically\n",
    "# classic_18_19 = pd.concat([classic_18, classic_19], ignore_index=True)\n",
    "\n",
    "# # Concatenate the pop tables vertically\n",
    "# pop_18_19 = pd.concat([pop_18, pop_19], ignore_index=True)\n",
    "\n",
    "# # Merge classic_18_19 with pop_18_19\n",
    "# classic_pop = classic_18_19.merge(pop_18_19, on='tid')\n",
    "\n",
    "# # Using .isin(), filter classic_18_19 rows where tid is in classic_pop\n",
    "# popular_classic = classic_18_19[classic_18_19['tid'].isin(classic_pop['tid'])]\n",
    "\n",
    "# # Print popular chart\n",
    "# print(popular_classic)"
   ]
  }
 ],
 "metadata": {
  "language_info": {
   "name": "python"
  },
  "orig_nbformat": 4
 },
 "nbformat": 4,
 "nbformat_minor": 2
}

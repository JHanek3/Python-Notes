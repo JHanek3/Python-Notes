{
 "cells": [
  {
   "cell_type": "code",
   "execution_count": null,
   "metadata": {},
   "outputs": [],
   "source": [
    "\"\"\"\n",
    "Left join\n",
    "    All rows of the left table\n",
    "    And all rows from the right table with matching key column\n",
    "\n",
    "Inner Join\n",
    "    Combine two tables by specifying a key column\n",
    "    matching values with key columns in both tables\n",
    "\n",
    "movies_taglines = movies.merge(taglines, on='id', how='left')\n",
    "\"\"\""
   ]
  },
  {
   "cell_type": "code",
   "execution_count": null,
   "metadata": {},
   "outputs": [],
   "source": [
    "# Counting missing rows with left join\n",
    "# What column is likey the best column to merge the two tables on?, on='id'\n",
    "\n",
    "# Merge movies and financials with a left join\n",
    "# movies_financials = movies.merge(financials, how='left')\n",
    "\n",
    "# # Count the number of rows in the budget column that are missing\n",
    "# number_of_missing_fin = movies_financials['budget'].isnull().sum()\n",
    "\n",
    "# # Print the number of movies missing financials\n",
    "# print(number_of_missing_fin)"
   ]
  },
  {
   "cell_type": "code",
   "execution_count": null,
   "metadata": {},
   "outputs": [],
   "source": [
    "# Enriching a dataset\n",
    "# # Merge the toy_story and taglines tables with a left join\n",
    "# toystory_tag = toy_story.merge(taglines, on='id', how='left')\n",
    "\n",
    "# # Print the rows and shape of toystory_tag\n",
    "# print(toystory_tag)\n",
    "# print(toystory_tag.shape)\n",
    "\n",
    "# # Merge the toy_story and taglines tables with a inner join\n",
    "# toystory_tag = toy_story.merge(taglines, on='id')\n",
    "\n",
    "# # Print the rows and shape of toystory_tag\n",
    "# print(toystory_tag)\n",
    "# print(toystory_tag.shape)"
   ]
  },
  {
   "cell_type": "code",
   "execution_count": null,
   "metadata": {},
   "outputs": [],
   "source": [
    "# How many rows with a left join?\n",
    "# The output of a one-to-many merge with a left join will have greater than or equal rows than the left table"
   ]
  },
  {
   "cell_type": "code",
   "execution_count": null,
   "metadata": {},
   "outputs": [],
   "source": [
    "\"\"\"\n",
    "Other joins\n",
    "\n",
    "Right Join\n",
    "    all of the rows on the right table and only return left table rows that match\n",
    "    \n",
    "tv_movies = movies.merge(tv_genre, how='right', left_on='id', right_on='movie_id')\n",
    "\n",
    "Outer join\n",
    "    returns all the rows, regardless if there is a match\n",
    "\"\"\""
   ]
  },
  {
   "cell_type": "code",
   "execution_count": null,
   "metadata": {},
   "outputs": [],
   "source": [
    "# # Merge action_movies to the scifi_movies with right join\n",
    "# action_scifi = action_movies.merge(scifi_movies, on='movie_id', how='right',\n",
    "#                                    suffixes=('_act','_sci'))\n",
    "\n",
    "# # From action_scifi, select only the rows where the genre_act column is null\n",
    "# scifi_only = action_scifi[action_scifi['genre_act'].isnull()]\n",
    "\n",
    "# # Merge the movies and scifi_only tables with an inner join\n",
    "# movies_and_scifi_only = movies.merge(scifi_only, left_on='id', right_on='movie_id')\n",
    "\n",
    "# # Print the first few rows and shape of movies_and_scifi_only\n",
    "# print(movies_and_scifi_only.head())\n",
    "# print(movies_and_scifi_only.shape)"
   ]
  },
  {
   "cell_type": "code",
   "execution_count": null,
   "metadata": {},
   "outputs": [],
   "source": [
    "# Popular genres with right join\n",
    "# # Use right join to merge the movie_to_genres and pop_movies tables\n",
    "# genres_movies = movie_to_genres.merge(pop_movies, how='right', left_on='movie_id', right_on='id')\n",
    "\n",
    "# # Count the number of genres\n",
    "# genre_count = genres_movies.groupby('genre').agg({'id':'count'})\n",
    "\n",
    "# # Plot a bar chart of the genre_count\n",
    "# genre_count.plot(kind='bar')\n",
    "# plt.show()"
   ]
  },
  {
   "cell_type": "code",
   "execution_count": null,
   "metadata": {},
   "outputs": [],
   "source": [
    "# Using outer join to select actors\n",
    "# # Merge iron_1_actors to iron_2_actors on id with outer join using suffixes\n",
    "# iron_1_and_2 = iron_1_actors.merge(iron_2_actors,\n",
    "#                                      on='id',\n",
    "#                                      how='outer',\n",
    "#                                      suffixes=('_1', '_2'))\n",
    "\n",
    "# # Create an index that returns true if name_1 or name_2 are null\n",
    "# m = ((iron_1_and_2['name_1'].isnull()) | \n",
    "#      (iron_1_and_2['name_2'].isnull()))\n",
    "\n",
    "# # Print the first few rows of iron_1_and_2\n",
    "# print(iron_1_and_2[m].head())"
   ]
  },
  {
   "cell_type": "code",
   "execution_count": null,
   "metadata": {},
   "outputs": [],
   "source": [
    "\"\"\"\n",
    "Merging a table to itself (self-join)\n",
    "\n",
    "original_sequels = sequels.merge(sequels, left_on='sequel', right_on='id', suffices=('_org', '_seq')\n",
    "original_sequels[,['title_org', 'title_seq']]\n",
    "\n",
    "When to merge a table to itself\n",
    "    Hierarchical relationships (employee, manager)\n",
    "    Sequential reltionships\n",
    "    Graph data\n",
    "\"\"\""
   ]
  },
  {
   "cell_type": "code",
   "execution_count": null,
   "metadata": {},
   "outputs": [],
   "source": [
    "# Self Join\n",
    "# # Merge the crews table to itself\n",
    "# crews_self_merged = crews.merge(crews, on='id', how='inner',\n",
    "#                                 suffixes=('_dir','_crew'))\n",
    "\n",
    "# # Create a boolean index to select the appropriate rows\n",
    "# boolean_filter = ((crews_self_merged['job_dir'] == 'Director') & \n",
    "#                   (crews_self_merged['job_crew'] != 'Director'))\n",
    "# direct_crews = crews_self_merged[boolean_filter]\n",
    "\n",
    "# # Print the first few rows of direct_crews\n",
    "# print(direct_crews.head())"
   ]
  },
  {
   "cell_type": "code",
   "execution_count": null,
   "metadata": {},
   "outputs": [],
   "source": [
    "# How does Pandas handle self joins?\n",
    "# You multiple merge self joined tables"
   ]
  },
  {
   "cell_type": "code",
   "execution_count": null,
   "metadata": {},
   "outputs": [],
   "source": [
    "\"\"\"\n",
    "Merging on indexes\n",
    "    setting an index\n",
    "    movies = pd.read_csv('movies.csv', index_col=['id'])\n",
    "\n",
    "MultiIndex merge\n",
    "    samuel_casts = samuel.merge(casts, on=['movie_id', 'cast_id'])\n",
    "    movies_genres = movies.merge(movie_to_genres, left_on='id', left_index=True, right_on='movie_id', right_index=True)\n",
    "\n",
    "\"\"\""
   ]
  },
  {
   "cell_type": "code",
   "execution_count": null,
   "metadata": {},
   "outputs": [],
   "source": [
    "# Index merge for movie ratings\n",
    "# # Merge to the movies table the ratings table on the index\n",
    "# movies_ratings = movies.merge(ratings, on='id')\n",
    "\n",
    "# # Print the first few rows of movies_ratings\n",
    "# print(movies_ratings.head())"
   ]
  },
  {
   "cell_type": "code",
   "execution_count": null,
   "metadata": {},
   "outputs": [],
   "source": [
    "# Do sequels earn more\n",
    "# # Merge sequels and financials on index id\n",
    "# sequels_fin = sequels.merge(financials, on='id', how='left')\n",
    "\n",
    "# # Self merge with suffixes as inner join with left on sequel and right on id\n",
    "# orig_seq = sequels_fin.merge(sequels_fin, how='inner', left_on='sequel', \n",
    "#                              right_on='id', right_index=True,\n",
    "#                              suffixes=('_org','_seq'))\n",
    "\n",
    "# # Add calculation to subtract revenue_org from revenue_seq \n",
    "# orig_seq['diff'] = orig_seq['revenue_seq'] - orig_seq['revenue_org']\n",
    "\n",
    "# # Select the title_org, title_seq, and diff \n",
    "# titles_diff = orig_seq[['title_org','title_seq','diff']]\n",
    "\n",
    "# # Print the first rows of the sorted titles_diff\n",
    "# print(titles_diff.sort_values('diff', ascending=False).head())"
   ]
  }
 ],
 "metadata": {
  "language_info": {
   "name": "python"
  },
  "orig_nbformat": 4
 },
 "nbformat": 4,
 "nbformat_minor": 2
}

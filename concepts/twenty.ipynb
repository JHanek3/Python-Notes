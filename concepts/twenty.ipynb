{
 "cells": [
  {
   "cell_type": "markdown",
   "id": "c3abc064",
   "metadata": {},
   "source": [
    "# 20 Python Concepts I wish I knew Way Earlier\n",
    "https://levelup.gitconnected.com/20-python-concepts-i-wish-i-knew-way-earlier-573cd189c183"
   ]
  },
  {
   "cell_type": "code",
   "execution_count": 1,
   "id": "1b1dcd45",
   "metadata": {},
   "outputs": [
    {
     "name": "stdout",
     "output_type": "stream",
     "text": [
      "Name: bob, Age: 30, Gender: male\n",
      "Name1: bill, Age1: 25, Gender1: male\n",
      "Hossa_____Toews_____Kane\n",
      "__Seabrook__Keith__\n"
     ]
    }
   ],
   "source": [
    "\"\"\"\n",
    "Tuple Unpacking with *\n",
    "Adding * infront of a variable, unpacks everything else still retained as a collection (list, tuple)\n",
    "\"\"\"\n",
    "person = [\"bob\", 30, \"male\"]\n",
    "person1 = [\"bill\", 25, \"male\"]\n",
    "\n",
    "name, age, gender = person\n",
    "name1, age1, gender1 = person1\n",
    "\n",
    "print(f\"Name: {name}, Age: {age}, Gender: {gender}\")\n",
    "print(f\"Name1: {name1}, Age1: {age1}, Gender1: {gender1}\")\n",
    "\n",
    "players = [\"Toews\", \"Kane\", \"Hossa\", \"Seabrook\", \"Keith\"]\n",
    "c, rw, lw, *dPair = players\n",
    "print(f\"{lw}_____{c}_____{rw}\") \n",
    "print(f\"__{dPair[0]}__{dPair[1]}__\")"
   ]
  },
  {
   "cell_type": "code",
   "execution_count": 2,
   "id": "fc06f4a4",
   "metadata": {},
   "outputs": [
    {
     "name": "stdout",
     "output_type": "stream",
     "text": [
      "[1, 2, 3]\n",
      "[2, 4, 6]\n",
      "[1, 4, 9]\n",
      "[1, 3]\n",
      "{1, 2, 3}\n",
      "{1: 1, 2: 4, 3: 9}\n"
     ]
    }
   ],
   "source": [
    "\"\"\"\n",
    "Set comprehension and dictionary comprehension can be used to create sets and dictionaries \n",
    "in the same way we create lists using list comprehensions\n",
    "\"\"\"\n",
    "l1 = [i for i in range(1,4)]\n",
    "print(l1)\n",
    "\n",
    "l2 = [i*2 for i in range(1,4)]\n",
    "print(l2)\n",
    "\n",
    "l3 = [i**2 for i in range(1,4)]\n",
    "print(l3)\n",
    "\n",
    "l4 = [i for i in range(1,4) if i%2 == 1]\n",
    "print(l4)\n",
    "\n",
    "set1 = {i for i in range(1,4)}\n",
    "print(set1)\n",
    "\n",
    "# Returns a dictionary of number and its square value\n",
    "d1 = {i:i**2 for i in range(1,4)}\n",
    "print(d1)"
   ]
  },
  {
   "cell_type": "code",
   "execution_count": 5,
   "id": "2f69acef",
   "metadata": {},
   "outputs": [
    {
     "name": "stdout",
     "output_type": "stream",
     "text": [
      "You pass\n",
      "You got an A+\n"
     ]
    }
   ],
   "source": [
    "\"\"\"\n",
    "Ternary Operator\n",
    "We can condense if-elif-else bloks into one line using ternary operators\n",
    "\"\"\"\n",
    "score = 57\n",
    "if score > 90:\n",
    "    grade = \"A+\"\n",
    "elif score > 50:\n",
    "    grade = \"pass\"\n",
    "else:\n",
    "    grade = \"fail\"\n",
    "\n",
    "print(f\"You {grade}\")\n",
    "\n",
    "# Can be rewritten as\n",
    "score = 96\n",
    "grade = 'A+' if score > 90 else 'pass' if score > 50 else 'fail'\n",
    "print(f\"You got an {grade}\")"
   ]
  },
  {
   "cell_type": "code",
   "execution_count": 9,
   "id": "82d3e644",
   "metadata": {},
   "outputs": [
    {
     "name": "stdout",
     "output_type": "stream",
     "text": [
      "Wrigley is a Golden Retriever and is 4 years old\n",
      "True\n"
     ]
    }
   ],
   "source": [
    "\"\"\"\n",
    "Magic methods like __str__ (string) and __gt__ (greater than)\n",
    "\"\"\"\n",
    "class Dog():\n",
    "    def __init__(self, name, breed, age):\n",
    "        self.name = name\n",
    "        self.breed = breed\n",
    "        self.age = age\n",
    "    \n",
    "    # String\n",
    "    def __str__(self):\n",
    "        return f'{self.name} is a {self.breed} and is {self.age} years old'\n",
    "    \n",
    "    # Greater than operator, what whappens we compare two dogs?\n",
    "    def __gt__(self, otherDog):\n",
    "        return self.age > otherDog.age\n",
    "\n",
    "dog = Dog('Wrigley', 'Golden Retriever', 4)\n",
    "print(dog)\n",
    "\n",
    "dog1 = Dog('Chief', 'Germman Shepard', 2)\n",
    "print(dog > dog1)"
   ]
  },
  {
   "cell_type": "code",
   "execution_count": 13,
   "id": "ab016912",
   "metadata": {},
   "outputs": [
    {
     "name": "stdout",
     "output_type": "stream",
     "text": [
      "a=1 b=2 args=(3, 4, 5)\n",
      "a=1 b=2 kwargs={'c': 3, 'd': 4}\n"
     ]
    }
   ],
   "source": [
    "\"\"\"\n",
    "*args allow our function to take in any number of positional arguments and get stored as a tuple\n",
    "**kwargs allow our functions to take in any number of keyword arguments (which will be stored in a dict kwargs)\n",
    "\"\"\"\n",
    "def test(a,b, *args):\n",
    "    # Thats a fascinating little f format right there\n",
    "    # Its calling the param with a= so its written as a=1 instead of doing f'a={a}''\n",
    "    print(f'{a=} {b=} {args=}')\n",
    "test(1,2,3,4,5)\n",
    "\n",
    "def test1(a,b, **kwargs):\n",
    "    print(f'{a=} {b=} {kwargs=}')\n",
    "test1(a=1, b=2, c=3, d=4)"
   ]
  },
  {
   "cell_type": "code",
   "execution_count": 14,
   "id": "2cdc8a32",
   "metadata": {},
   "outputs": [
    {
     "name": "stdout",
     "output_type": "stream",
     "text": [
      "test123 succesfully imported\n"
     ]
    }
   ],
   "source": [
    "\"\"\"\n",
    "Working with multiple .py files through import\n",
    "\"\"\"\n",
    "from helper import test123\n",
    "test123()\n",
    "\n"
   ]
  },
  {
   "cell_type": "code",
   "execution_count": 15,
   "id": "5a27341c",
   "metadata": {},
   "outputs": [
    {
     "name": "stdout",
     "output_type": "stream",
     "text": [
      "test123 succesfully imported\n"
     ]
    }
   ],
   "source": [
    "\"\"\"\n",
    "if __name__ == \"__main__\":\n",
    "if __name__ == \"__main__\" evaluates to True if .py file is ran directly\n",
    ">>> python helper.py\n",
    "\"\"\"\n",
    "from helper import test123\n",
    "test123()"
   ]
  },
  {
   "cell_type": "code",
   "execution_count": 26,
   "id": "1b945b7e",
   "metadata": {},
   "outputs": [
    {
     "name": "stdout",
     "output_type": "stream",
     "text": [
      "this prints\n",
      "this prints\n",
      "this prints\n",
      "this prints\n",
      "this prints\n",
      "this prints\n",
      "this prints\n",
      "this prints\n",
      "this prints\n"
     ]
    }
   ],
   "source": [
    "\"\"\"\n",
    "Truthy and falsy values\n",
    "\"\"\"\n",
    "\n",
    "# 0 if flasy, and evaluates to False\n",
    "if 0: print(\"this wont print\")\n",
    "\n",
    "# non-zero numbers are truthy\n",
    "if 1: print('this prints')\n",
    "if 2: print('this prints')\n",
    "if 100: print('this prints')\n",
    "# This might catch you off guard\n",
    "if -1: print('this prints')\n",
    "if 3.14: print('this prints')\n",
    "    \n",
    "# empty sequences are falsy\n",
    "if '': print('this wont print')\n",
    "if []: print('this wont print')\n",
    "if {}: print('this wont print')\n",
    "if set(): print('this wont print')\n",
    "\n",
    "# non-empty sequences are truthy\n",
    "if 'a': print('this prints')\n",
    "if [1]: print('this prints')\n",
    "if {2:3}: print('this prints')\n",
    "if {1,2}: print('this prints')\n"
   ]
  },
  {
   "cell_type": "code",
   "execution_count": 31,
   "id": "e93879fc",
   "metadata": {},
   "outputs": [
    {
     "name": "stdout",
     "output_type": "stream",
     "text": [
      "1\n",
      "2\n",
      "1\n",
      "2\n",
      "4\n",
      "5\n",
      "1\n",
      "2\n",
      "3\n",
      "4\n",
      "5\n"
     ]
    }
   ],
   "source": [
    "\"\"\"\n",
    "break vs continue vs pass\n",
    "\"\"\"\n",
    "for i in range(1,6):\n",
    "    if i == 3:\n",
    "        break\n",
    "    print(i)\n",
    "# Prints 1,2 and breaks the loop entirely\n",
    "\n",
    "for i in range(1,6):\n",
    "    if i == 3:\n",
    "        continue\n",
    "    print(i)\n",
    "# Prints 1,2,4,5, skips one iteration\n",
    "\n",
    "for i in range(1,6):\n",
    "    if i == 3:\n",
    "        pass\n",
    "    print(i)\n",
    "# prints 1,2,3,4,5, does nothing\n",
    "    "
   ]
  },
  {
   "cell_type": "code",
   "execution_count": 37,
   "id": "41e14218",
   "metadata": {},
   "outputs": [
    {
     "name": "stdout",
     "output_type": "stream",
     "text": [
      "Hi\n",
      "How are you?\n"
     ]
    }
   ],
   "source": [
    "dic_ = {1: \"Hi\"}\n",
    "\n",
    "try:\n",
    "    print(dic_[1])\n",
    "    print(dic_[2])\n",
    "except KeyError:\n",
    "    pass\n",
    "finally:\n",
    "    print(\"How are you?\")"
   ]
  },
  {
   "cell_type": "markdown",
   "id": "a9785b8a",
   "metadata": {},
   "source": [
    "### Python Web API building libraries\n",
    "Python FastAPI - Allows the ability to build APIs very easily<br/>\n",
    "Python Flask - Build APIs using Flask, simlpe web applications"
   ]
  },
  {
   "cell_type": "code",
   "execution_count": 51,
   "id": "056cf971",
   "metadata": {},
   "outputs": [
    {
     "name": "stdout",
     "output_type": "stream",
     "text": [
      "hello tim!\n"
     ]
    }
   ],
   "source": [
    "\"\"\"\n",
    "Decorators\n",
    "@decorator\n",
    "A function that takes in another function\n",
    "Tweaks how the function works\n",
    "Returns another function\n",
    "\"\"\"\n",
    "def addExclamationMark(your_function):\n",
    "  def inner(*args, **kwargs):\n",
    "    return your_function(*args, **kwargs) + \"!\"\n",
    "  return inner\n",
    "\n",
    "@addExclamationMark\n",
    "def greet(name):\n",
    "  return f'hello {name}'\n",
    "\n",
    "print(greet('tim'))"
   ]
  },
  {
   "cell_type": "code",
   "execution_count": 59,
   "id": "b73cd205",
   "metadata": {},
   "outputs": [
    {
     "name": "stdout",
     "output_type": "stream",
     "text": [
      "apple\n",
      "apple\n",
      "orange\n",
      "pear\n"
     ]
    }
   ],
   "source": [
    "\"\"\"\n",
    "Generators + the \"yield\"\n",
    "The yield keyword is like the return keyowrd, the function doesn't stop after yielding\n",
    "A function that contains the yield keyword becomes a generator function, and can have multiple outputs\n",
    "\"\"\"\n",
    "def example():\n",
    "    fruits = ['apple', 'orange', 'pear']\n",
    "    for fruit in fruits:\n",
    "        print(fruit)\n",
    "        return\n",
    "example()\n",
    "# only apple is returned\n",
    "\n",
    "def simpleGenerator():\n",
    "    yield 'apple'\n",
    "    yield 'orange'\n",
    "    yield 'pear'\n",
    "\n",
    "for fruit in simpleGenerator():\n",
    "    print(fruit)\n",
    "# All 3 are printed\n",
    "\n"
   ]
  },
  {
   "cell_type": "code",
   "execution_count": 64,
   "id": "3ce1208d",
   "metadata": {},
   "outputs": [
    {
     "name": "stdout",
     "output_type": "stream",
     "text": [
      "['hello', 'my', 'name', 'is']\n",
      "['hello', 'my', 'name', 'is']\n"
     ]
    }
   ],
   "source": [
    "\"\"\"\n",
    "If the correct value is returned, you can chain multiple methods\n",
    "\"\"\"\n",
    "s = 'HELLO MY NAME IS'\n",
    "s = s.strip()\n",
    "s = s.lower()\n",
    "s = s.split()\n",
    "print(s)\n",
    "\n",
    "s = 'HELLO MY NAME IS'\n",
    "s = s.strip().lower().split()\n",
    "print(s)\n",
    "\n"
   ]
  },
  {
   "cell_type": "markdown",
   "id": "4f14083d",
   "metadata": {},
   "source": [
    "### Basic machine learning - regression and classification\n",
    "\"Automated statistics with help from a computer\"<br/>\n",
    "Machine Learning is a huge field, but it typically starts with supervised learning (classification and regression)\n",
    "scikit-learn"
   ]
  },
  {
   "cell_type": "markdown",
   "id": "a38b28d1",
   "metadata": {},
   "source": [
    "### Basic Data Structures and Algorithms\n",
    "Become competent, practice these coding interview questions."
   ]
  },
  {
   "cell_type": "code",
   "execution_count": 67,
   "id": "5362f766",
   "metadata": {},
   "outputs": [],
   "source": [
    "\"\"\"\n",
    "Built-in data structures and when to use them\n",
    "\"\"\"\n",
    "# ordered collection of elements\n",
    "list1 = [1,2,3]\n",
    "\n",
    "# an imutable list, we can use this as a dict key\n",
    "tuple1 = (1,2,3)\n",
    "\n",
    "# 0(1) when accessing a value using a key\n",
    "dict1 = {'apple': 4, 'orange': 5}\n",
    "\n",
    "# unordered collection containing only unique elements\n",
    "# 0(1) when checking if element exists inside a set\n",
    "set1 = {1,2,3}\n",
    "\n",
    "# an immutable set, we can use this as a dict key\n",
    "frozenset1 = frozenset({1,2,3})\n",
    "\n"
   ]
  },
  {
   "cell_type": "code",
   "execution_count": 73,
   "id": "e18e16a4",
   "metadata": {},
   "outputs": [
    {
     "name": "stdout",
     "output_type": "stream",
     "text": [
      "3\n",
      "3\n",
      "jello\n",
      "jello\n",
      "0.5\n",
      "0.5\n"
     ]
    }
   ],
   "source": [
    "\"\"\"\n",
    "Lambda functions\n",
    "\"\"\"\n",
    "def add(x,y):\n",
    "    return x + y\n",
    "print(add(1,2))\n",
    "\n",
    "add = lambda x,y: x+y\n",
    "print(add(1,2))\n",
    "\n",
    "def test():\n",
    "    return 'jello'\n",
    "print(test())\n",
    "\n",
    "test = lambda: 'jello'\n",
    "print(test())\n",
    "\n",
    "def test2(a,b,c,d):\n",
    "    return (a+b) / (c-d)\n",
    "print(test2(1,0,4,2))\n",
    "\n",
    "test2 = lambda a,b,c,d: (a+b) / (c-d)\n",
    "print(test2(1,0,4,2))"
   ]
  },
  {
   "cell_type": "code",
   "execution_count": 78,
   "id": "26faee35",
   "metadata": {},
   "outputs": [],
   "source": [
    "\"\"\"\n",
    "assert + raise + custom exceptions\n",
    "\"\"\"\n",
    "score = 99\n",
    "assert score <= 100\n",
    "# assert keyword allows us to conduct a sanity test in the middle of the code\n",
    "\n",
    "if score > 100:\n",
    "    raise Exception(\"Score cannot be higher than 100\")\n",
    "# forcibly cause an Exception\n",
    "\n",
    "# Can also create own Exception types by inheriting from the Exception class\n",
    "class ScoreException(Exception):\n",
    "    def __init__(self):\n",
    "        super().__init__(\"score cannot be higher than 100\")\n",
    "\n",
    "if score > 100:\n",
    "    raise ScoreException()"
   ]
  },
  {
   "cell_type": "code",
   "execution_count": null,
   "id": "505ad11a",
   "metadata": {},
   "outputs": [],
   "source": [
    "\"\"\"\n",
    "Multiprocessing in python\n",
    "\"\"\"\n",
    "import multiprocessing\n",
    "import time\n",
    "import datetime\n",
    "\n",
    "def function(x):\n",
    "    start = datetime.datetime.now()\n",
    "    time.sleep(1)\n",
    "    end = datetime.datetime.now()\n",
    "    return f'x={x} start at {start}, end at {end}'\n",
    "\n",
    "def Main():\n",
    "    with multiprocessing.Pool(processes=3) as pool:\n",
    "        data = pool.map(function, [1, 2, 3, 4, 5, 6, 7])\n",
    "    for row in data:\n",
    "        print(row)\n",
    "\n",
    "# function1, function2, function3 run at the same time\n",
    "# function4, function5 run at the same time also\n",
    "# function7 runs on its own"
   ]
  },
  {
   "cell_type": "code",
   "execution_count": null,
   "id": "b987d9e3",
   "metadata": {},
   "outputs": [],
   "source": []
  }
 ],
 "metadata": {
  "kernelspec": {
   "display_name": "Python 3 (ipykernel)",
   "language": "python",
   "name": "python3"
  },
  "language_info": {
   "codemirror_mode": {
    "name": "ipython",
    "version": 3
   },
   "file_extension": ".py",
   "mimetype": "text/x-python",
   "name": "python",
   "nbconvert_exporter": "python",
   "pygments_lexer": "ipython3",
   "version": "3.10.1"
  }
 },
 "nbformat": 4,
 "nbformat_minor": 5
}

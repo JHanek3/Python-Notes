{
 "cells": [
  {
   "attachments": {},
   "cell_type": "markdown",
   "metadata": {},
   "source": [
    "# 1920. Build Array from Permutation (Easy)\n",
    "Given a zero-based permutation nums (0-indexed),<br/> \n",
    "build an array ans of the same length where ans[i] = nums[nums[i]] for each 0 <= i < nums.length<br/>\n",
    "return it<br/>\n",
    "\n",
    "A zero-based permutation nums is an array of distinct integers from 0 to nums.length - 1 (inclusive).<br/>\n",
    "\n",
    "### Examples\n",
    "Input: nums = [0,2,1,5,3,4]<br/>\n",
    "Output: [0,1,2,4,5,3]<br/>\n",
    "\n",
    "Input: nums = [5,0,1,2,3,4]<br/>\n",
    "Output: [4,5,0,1,2,3]<br/>"
   ]
  },
  {
   "cell_type": "code",
   "execution_count": 6,
   "metadata": {},
   "outputs": [],
   "source": [
    "def buildArray(nums):\n",
    "    finArr = []\n",
    "    for i in range(len(nums)):\n",
    "        finArr.append(nums[nums[i]])\n",
    "    return finArr\n",
    "\n",
    "ans = buildArray([0,2,1,5,3,4])\n",
    "assert ans == [0,1,2,4,5,3]\n",
    "\n",
    "ans = buildArray([5,0,1,2,3,4])\n",
    "assert ans == [4,5,0,1,2,3]"
   ]
  }
 ],
 "metadata": {
  "kernelspec": {
   "display_name": "Python 3",
   "language": "python",
   "name": "python3"
  },
  "language_info": {
   "codemirror_mode": {
    "name": "ipython",
    "version": 3
   },
   "file_extension": ".py",
   "mimetype": "text/x-python",
   "name": "python",
   "nbconvert_exporter": "python",
   "pygments_lexer": "ipython3",
   "version": "3.10.1"
  },
  "orig_nbformat": 4
 },
 "nbformat": 4,
 "nbformat_minor": 2
}

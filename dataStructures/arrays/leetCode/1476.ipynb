{
 "cells": [
  {
   "attachments": {},
   "cell_type": "markdown",
   "metadata": {},
   "source": [
    "# 1476. Subrectangle Queries (Medium)\n",
    "Implement the class SubrectangleQueries which receives a rows x cols rectangle as a matrix of integers in the constructor and supports two methods:<br/>\n",
    "updateSubrectangle(int row1, int col1, int row2, int col2, int newValue)\n",
    "- Updates all values with newValue in the subrectangle whose upper left coordinate is (row1,col1) and bottom right coordinate is (row2,col2).\n",
    "getValue(int row, int col)<br/>\n",
    "- Returns the current value of the coordinate (row,col) from the rectangle.\n",
    "\n",
    "### Examples:\n",
    "Input: <br/> \n",
    "[\"SubrectangleQueries\",\"getValue\",\"updateSubrectangle\",\"getValue\",\"getValue\",\"updateSubrectangle\",\"getValue\",\"getValue\"]<br/>\n",
    "[[[[1,2,1],[4,3,4],[3,2,1],[1,1,1]]],[0,2],[0,0,3,2,5],[0,2],[3,1],[3,0,3,2,10],[3,1],[0,2]]<br/>\n",
    "Output: [null,1,null,5,5,null,10,5]<br/>\n",
    "\n",
    "Input:<br/>\n",
    "[\"SubrectangleQueries\",\"getValue\",\"updateSubrectangle\",\"getValue\",\"getValue\",\"updateSubrectangle\",\"getValue\"]<br/>\n",
    "[[[[1,1,1],[2,2,2],[3,3,3]]],[0,0],[0,0,2,2,100],[0,0],[2,2],[1,1,2,2,20],[2,2]]<br/>\n",
    "Output: [1,4,2,3,3,2,4,1]<br/>"
   ]
  },
  {
   "cell_type": "code",
   "execution_count": 15,
   "metadata": {},
   "outputs": [],
   "source": [
    "class SubrectangleQueries(object):\n",
    "    def __init__(self,rectangle):\n",
    "        \"\"\"\n",
    "        :type rectangel: List[List[int]]\n",
    "        \"\"\"\n",
    "        self.rectangle = rectangle\n",
    "    \n",
    "    def updateSubrectangle(self, row1, col1, row2, col2, newValue):\n",
    "        \"\"\"\n",
    "        :type row1: int\n",
    "        :type col1: int\n",
    "        :type row2: int\n",
    "        :type col2: int\n",
    "        :type newValue: int\n",
    "        :rtype: None\n",
    "        \"\"\"\n",
    "        for x in range(row1, row2 + 1):\n",
    "            for y in range(col1, col2 + 1):\n",
    "                self.rectangle[x][y] = newValue\n",
    "        return None\n",
    "    \n",
    "    def getValue(self, row, col):\n",
    "        \"\"\"\n",
    "        :type row: int\n",
    "        :type col: int\n",
    "        :rtype: int\n",
    "        \"\"\"\n",
    "        return self.rectangle[row][col]\n",
    "\n",
    "obj = SubrectangleQueries([[1,2,1],[4,3,4],[3,2,1],[1,1,1]])\n",
    "assert obj.getValue(0,2) == 1\n",
    "\n",
    "obj.updateSubrectangle(0,0,3,2,5)\n",
    "assert obj.getValue(0,2) == 5\n",
    "assert obj.getValue(3,1) == 5\n",
    "\n",
    "obj.updateSubrectangle(3,0,3,2,10)\n",
    "assert obj.getValue(3,1) == 10\n",
    "assert obj.getValue(0,2) == 5\n",
    "\n",
    "obj = SubrectangleQueries([[1,1,1],[2,2,2],[3,3,3]])\n",
    "assert obj.getValue(0,0) == 1\n",
    "\n",
    "obj.updateSubrectangle(0,0,2,2,100)\n",
    "assert obj.getValue(0,0) == 100\n",
    "assert obj.getValue(2,2) == 100\n",
    "\n",
    "obj.updateSubrectangle(1,1,2,2,20)\n",
    "assert obj.getValue(2,2) == 20"
   ]
  }
 ],
 "metadata": {
  "kernelspec": {
   "display_name": "Python 3",
   "language": "python",
   "name": "python3"
  },
  "language_info": {
   "codemirror_mode": {
    "name": "ipython",
    "version": 3
   },
   "file_extension": ".py",
   "mimetype": "text/x-python",
   "name": "python",
   "nbconvert_exporter": "python",
   "pygments_lexer": "ipython3",
   "version": "3.10.1"
  },
  "orig_nbformat": 4
 },
 "nbformat": 4,
 "nbformat_minor": 2
}

{
 "cells": [
  {
   "attachments": {},
   "cell_type": "markdown",
   "metadata": {},
   "source": [
    "# 1720. Decode XORed Array (Easy)\n",
    "There is a hidden integer array arr that consists of n non-negative integers.<br/>\n",
    "It was encoded into another integer array encoded of length n - 1, such that encoded[i] = arr[i] XOR arr[i + 1]. For example, if arr = [1,0,2,1], then encoded = [1,2,3].<br/>\n",
    "You are given the encoded array. You are also given an integer first, that is the first element of arr, i.e. arr[0].<br/>\n",
    "Return the original array arr. It can be proved that the answer exists and is unique.<br/>\n",
    "\n",
    "### Examples\n",
    "Input: encoded = [1,2,3], first = 1<br/>\n",
    "Output: [1,0,2,1]<br/>\n",
    "\n",
    "Input: encoded = [6,2,7,3], first = 4<br/>\n",
    "Output: [4,2,0,7,4]"
   ]
  },
  {
   "cell_type": "code",
   "execution_count": 3,
   "metadata": {},
   "outputs": [],
   "source": [
    "def decode(encoded, first):\n",
    "    \"\"\"\n",
    "    :type encoded: List[int]\n",
    "    :type first: int\n",
    "    :rtype: List[int]\n",
    "    \"\"\"\n",
    "    size = len(encoded)\n",
    "    res = [None] * (size + 1)\n",
    "    res[0] = first\n",
    "    for i in range(len(encoded)):\n",
    "        res[i+1] = res[i] ^ encoded[i]\n",
    "    return res\n",
    "\n",
    "ans = decode([1,2,3], 1)\n",
    "assert ans == [1,0,2,1]\n",
    "\n",
    "ans = decode([6,2,7,3], 4)\n",
    "assert ans == [4,2,0,7,4]"
   ]
  }
 ],
 "metadata": {
  "kernelspec": {
   "display_name": "Python 3",
   "language": "python",
   "name": "python3"
  },
  "language_info": {
   "codemirror_mode": {
    "name": "ipython",
    "version": 3
   },
   "file_extension": ".py",
   "mimetype": "text/x-python",
   "name": "python",
   "nbconvert_exporter": "python",
   "pygments_lexer": "ipython3",
   "version": "3.10.1"
  },
  "orig_nbformat": 4
 },
 "nbformat": 4,
 "nbformat_minor": 2
}

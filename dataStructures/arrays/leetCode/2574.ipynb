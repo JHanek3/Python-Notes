{
 "cells": [
  {
   "attachments": {},
   "cell_type": "markdown",
   "metadata": {},
   "source": [
    "# 2574 Left and Right Sum Differences (Easy)\n",
    "Given a 0-indexed integer array nums, find a 0-indexed integer array answer where:\n",
    "- answer.length == nums.length\n",
    "- answer[i] = |leftSum[i] - rightSum[i]|\n",
    "\n",
    "Where:\n",
    "- leftSum[i] is the sum of elements to the left of the index i in the array nums. If there is no such element, leftSum[i] = 0\n",
    "- rightSum[i] is the sum of elements to the right of the index i in the array nums. If there is no such element, rightSum[i] = 0\n",
    "\n",
    "Return the array answer\n",
    "\n",
    "### Examples:\n",
    "Input: nums = [10,4,8,3]<br/>\n",
    "Output: [15,1,11,22]<br/>\n",
    "Explanation: The array leftSum is [0,10,14,22] and the array rightSum is [15,11,3,0]<br/>\n",
    "The array answer is [|0 - 15|,|10 - 11|,|14 - 3|,|22 - 0|] = [15,1,11,22]<br/>\n",
    "\n",
    "Input: nums = [1]<br/>\n",
    "Output: [0]<br/>\n",
    "Explanation: The array leftSum is [0] and the array rightSum is [0]<br/>\n",
    "The array answer is [|0 - 0|] = [0]<br/>\n"
   ]
  },
  {
   "cell_type": "code",
   "execution_count": 18,
   "metadata": {},
   "outputs": [],
   "source": [
    "# The index value is not include in the summing\n",
    "def leftRigthDifference(nums):\n",
    "    finArr = []\n",
    "    for i in range(len(nums)):\n",
    "        if i == 0:\n",
    "            finArr.append(sum(nums[i+1:]))\n",
    "        elif i == len(nums) - 1:\n",
    "            finArr.append(sum(nums[:i]))\n",
    "        else:\n",
    "            finArr.append(abs(sum(nums[:i]) - sum(nums[i+1:])))\n",
    "    return finArr\n",
    "\n",
    "def leftRigthDifferenceFaster(nums):\n",
    "    ans = []\n",
    "    for i in range(len(nums)):\n",
    "        # This completly negates the i == 0 and i == end of array\n",
    "        # Thats pretty sick, that never occured to me\n",
    "        ans.append(abs(sum(nums[:i]) - sum(nums[i+1:])))\n",
    "    return ans\n",
    "            \n",
    "\n",
    "ans = leftRigthDifference([10,4,8,3])\n",
    "assert ans == [15,1,11,22]\n",
    "\n",
    "ans = leftRigthDifference([1])\n",
    "assert ans ==  [0]\n"
   ]
  }
 ],
 "metadata": {
  "kernelspec": {
   "display_name": "Python 3",
   "language": "python",
   "name": "python3"
  },
  "language_info": {
   "codemirror_mode": {
    "name": "ipython",
    "version": 3
   },
   "file_extension": ".py",
   "mimetype": "text/x-python",
   "name": "python",
   "nbconvert_exporter": "python",
   "pygments_lexer": "ipython3",
   "version": "3.10.1"
  },
  "orig_nbformat": 4
 },
 "nbformat": 4,
 "nbformat_minor": 2
}

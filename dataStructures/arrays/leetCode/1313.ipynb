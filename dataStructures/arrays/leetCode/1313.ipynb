{
 "cells": [
  {
   "attachments": {},
   "cell_type": "markdown",
   "metadata": {},
   "source": [
    "# 1313. Decompress Run-Length Encoded List (Easy)\n",
    "We are given a list nums of integers representing a list compressed with run-length encoding.<br/>\n",
    "Consider each adjacent pair of elements [freq, val] = [nums[2*i], nums[2*i+1]] (with i >= 0).<br/>  \n",
    "For each such pair, there are freq elements with value val concatenated in a sublist.<br/> \n",
    "Concatenate all the sublists from left to right to generate the decompressed list.\n",
    "Return the decompressed list.\n",
    "\n",
    "### Examples\n",
    "Input: nums = [1,2,3,4]<br/>\n",
    "Output: [2,4,4,4]<br/>\n",
    "Explanation:\n",
    "- The first pair [1,2] means we have freq = 1 and val = 2 so we generate the array [2].\n",
    "- The second pair [3,4] means we have freq = 3 and val = 4 so we generate [4,4,4].\n",
    "- At the end the concatenation [2] + [4,4,4] is [2,4,4,4]."
   ]
  },
  {
   "cell_type": "code",
   "execution_count": 27,
   "metadata": {},
   "outputs": [],
   "source": [
    "ls = [1,2,3,4,5,6]\n",
    "res = list(zip(ls[::2], ls[1::2]))\n",
    "# ls[::2] extracts all the even-numbered list items (I say this because index 0 is \"even\")\n",
    "# ls[1::2] grabs all the odd-numbered list items. \n",
    "# print(res)\n",
    "\n",
    "def decompressRLElist(nums):\n",
    "    finArr = []\n",
    "    groupedList = list(zip(nums[::2], nums[1::2]))\n",
    "    for x, y in groupedList:\n",
    "        for z in range(x):\n",
    "            finArr.append(y)\n",
    "    return finArr\n",
    "\n",
    "ans = decompressRLElist([1,2,3,4])\n",
    "assert ans == [2,4,4,4]\n",
    "\n",
    "ans = decompressRLElist([1,1,2,3])\n",
    "assert ans == [1,3,3]"
   ]
  },
  {
   "cell_type": "code",
   "execution_count": null,
   "metadata": {},
   "outputs": [],
   "source": []
  }
 ],
 "metadata": {
  "kernelspec": {
   "display_name": "Python 3",
   "language": "python",
   "name": "python3"
  },
  "language_info": {
   "codemirror_mode": {
    "name": "ipython",
    "version": 3
   },
   "file_extension": ".py",
   "mimetype": "text/x-python",
   "name": "python",
   "nbconvert_exporter": "python",
   "pygments_lexer": "ipython3",
   "version": "3.10.1"
  },
  "orig_nbformat": 4
 },
 "nbformat": 4,
 "nbformat_minor": 2
}

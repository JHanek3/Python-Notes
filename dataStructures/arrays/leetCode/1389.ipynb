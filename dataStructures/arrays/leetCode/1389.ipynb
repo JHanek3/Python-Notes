{
 "cells": [
  {
   "attachments": {},
   "cell_type": "markdown",
   "metadata": {},
   "source": [
    "# 1389. Create Target Array in the Given Order (Easy)\n",
    "Given two arrays of integers nums and index. Your task is to create target array under the following rules:<br/>\n",
    "Initially target array is empty.<br/>\n",
    "From left to right read nums[i] and index[i], insert at index index[i] the value nums[i] in target array.<br/>\n",
    "Repeat the previous step until there are no elements to read in nums and index.<br/>\n",
    "Return the target array.<br/>\n",
    "It is guaranteed that the insertion operations will be valid.<br/>\n",
    "\n",
    "### Examples\n",
    "Input: nums = [0,1,2,3,4], index = [0,1,2,2,1]<br/>\n",
    "Output: [0,4,1,3,2]<br/>\n",
    "\n",
    "Input: nums = [1,2,3,4,0], index = [0,1,2,3,0]<br/>\n",
    "Output: [0,1,2,3,4]<br/>\n",
    "\n",
    "Input: nums = [1], index = [0]<br/>\n",
    "Output: [1]<br/>"
   ]
  },
  {
   "cell_type": "code",
   "execution_count": 4,
   "metadata": {},
   "outputs": [],
   "source": [
    "def createTargetArray(nums, index):\n",
    "    finArr = []\n",
    "    for a,b in zip(nums, index):\n",
    "        finArr.insert(b,a)\n",
    "    return finArr\n",
    "\n",
    "def createTargetArrayFaster(nums, index):\n",
    "    l = []\n",
    "    for i in range(len(nums)):\n",
    "        l.insert(index[i], nums[i])\n",
    "    return l\n",
    "\n",
    "ans = createTargetArray([0,1,2,3,4], [0,1,2,2,1])\n",
    "assert ans == [0,4,1,3,2]\n",
    "\n",
    "ans = createTargetArray([1,2,3,4,0],[0,1,2,3,0])\n",
    "assert ans == [0,1,2,3,4]\n",
    "\n",
    "ans = createTargetArray([1],[0])\n",
    "assert ans == [1]"
   ]
  }
 ],
 "metadata": {
  "kernelspec": {
   "display_name": "Python 3",
   "language": "python",
   "name": "python3"
  },
  "language_info": {
   "codemirror_mode": {
    "name": "ipython",
    "version": 3
   },
   "file_extension": ".py",
   "mimetype": "text/x-python",
   "name": "python",
   "nbconvert_exporter": "python",
   "pygments_lexer": "ipython3",
   "version": "3.10.1"
  },
  "orig_nbformat": 4
 },
 "nbformat": 4,
 "nbformat_minor": 2
}

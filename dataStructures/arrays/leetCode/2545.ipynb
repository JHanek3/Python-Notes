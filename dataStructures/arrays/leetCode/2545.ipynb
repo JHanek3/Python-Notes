{
 "cells": [
  {
   "attachments": {},
   "cell_type": "markdown",
   "metadata": {},
   "source": [
    "# 2545. Sort the Students by Their Kth Score (Medium)\n",
    "There is a class with m students and n exams.<br/> \n",
    "You are given a 0-indexed m x n integer matrix score, where each row represents one student and<br/> \n",
    "score[i][j] denotes the score the ith student got in the jth exam.<br/> \n",
    "The matrix score contains distinct integers only. <br/>\n",
    "\n",
    "You are also given an integer k.<br/> \n",
    "Sort the students (i.e., the rows of the matrix) by their scores in the kth (0-indexed) exam from the highest to the lowest.<br/>\n",
    "Return the matrix after sorting it.\n",
    "\n",
    "### Examples\n",
    "Input: score = [[10,6,9,1],[7,5,11,2],[4,8,3,15]], k = 2<br/>\n",
    "Output: Output: [[7,5,11,2],[10,6,9,1],[4,8,3,15]]<br/>\n",
    "\n",
    "Input: score = [[3,4],[5,6]], k = 0<br/>\n",
    "Output: Output: [[5,6],[3,4]]<br/>"
   ]
  },
  {
   "cell_type": "code",
   "execution_count": 17,
   "metadata": {},
   "outputs": [],
   "source": [
    "def sortTheStudents(score, k):\n",
    "    \"\"\"\n",
    "    :type score: List[List[int]]\n",
    "    :type k: int\n",
    "    :rtype: List[List[int]]\n",
    "    \"\"\"\n",
    "    dic = {}\n",
    "    finArr = []\n",
    "    \n",
    "    for i, j in enumerate(score):\n",
    "        dic[i] = score[i][k]\n",
    "    sortedDic = sorted(dic.items(), key=lambda x:x[1], reverse=True)\n",
    "    \n",
    "    for i in sortedDic:\n",
    "        finArr.append(score[i[0]])\n",
    "    return finArr\n",
    "\n",
    "def sortTheStudentsFaster(score, k):\n",
    "    \"\"\"\n",
    "    I won on memory, but lost on speed.\n",
    "    Also, I didn't like how I used a dic for this solution.\n",
    "    Its just what first came into my head to do. ¯\\_(ツ)_/¯\n",
    "    \"\"\"\n",
    "    # This just replaces your dictionary with an array of tuples\n",
    "    ns = [ (score[i][k], i) for i in range(len(score))]\n",
    "    \n",
    "    ans = []\n",
    "    # says sort the tuple by the first value in descending\n",
    "    # than append its row id\n",
    "    for n, id in sorted(ns, reverse = True):\n",
    "        ans.append(score[id])\n",
    "    return ans\n",
    "\n",
    "\n",
    "\n",
    "ans = sortTheStudents([[10,6,9,1],[7,5,11,2],[4,8,3,15]], 2)\n",
    "assert ans == [[7,5,11,2],[10,6,9,1],[4,8,3,15]]\n",
    "\n",
    "ans = sortTheStudents([[3,4],[5,6]], 0)\n",
    "assert ans == [[5,6],[3,4]]"
   ]
  }
 ],
 "metadata": {
  "kernelspec": {
   "display_name": "Python 3",
   "language": "python",
   "name": "python3"
  },
  "language_info": {
   "codemirror_mode": {
    "name": "ipython",
    "version": 3
   },
   "file_extension": ".py",
   "mimetype": "text/x-python",
   "name": "python",
   "nbconvert_exporter": "python",
   "pygments_lexer": "ipython3",
   "version": "3.10.1"
  },
  "orig_nbformat": 4
 },
 "nbformat": 4,
 "nbformat_minor": 2
}

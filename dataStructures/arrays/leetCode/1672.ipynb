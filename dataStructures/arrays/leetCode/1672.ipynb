{
 "cells": [
  {
   "attachments": {},
   "cell_type": "markdown",
   "metadata": {},
   "source": [
    "1672. Richest Customer Wealth\n",
    "You are given an m x n integer grid accounts where accounts[i][j] is the amount of money the i​​​​​​​​​​​th​​​​ customer has in the j​​​​​​​​​​​th​​​​ bank.<br/> \n",
    "Return the wealth that the richest customer has.\n",
    "\n",
    "A customer's wealth is the amount of money they have in all their bank accounts. The richest customer is the customer that has the maximum wealth.<br/>\n",
    "\n",
    "\n",
    "### Examples:\n",
    "Input: accounts = [[1,2,3],[3,2,1]]<br/>\n",
    "Output: 6<br/>\n",
    "Explanation:<br/>\n",
    "- 1st customer has wealth = 1 + 2 + 3 = 6<br/>\n",
    "- 2nd customer has wealth = 3 + 2 + 1 = 6<br/>\n",
    "- Both customers are considered the richest with a wealth of 6 each, so return 6<br/>\n",
    "\n",
    "Input: accounts = [[1,5],[7,3],[3,5]]<br/>\n",
    "Output: 10<br/>\n",
    "Explanation:<br/>\n",
    "- 1st customer has wealth = 6<br/>\n",
    "- 2nd customer has wealth = 10 <br/>\n",
    "- 3rd customer has wealth = 8<br/>\n",
    "- The 2nd customer is the richest with a wealth of 10<br/>\n",
    "\n",
    "Input: accounts = [[2,8,7],[7,1,3],[1,9,5]]<br/>\n",
    "Output: 17"
   ]
  },
  {
   "cell_type": "code",
   "execution_count": 4,
   "metadata": {},
   "outputs": [],
   "source": [
    "def maximumWealth(accounts):\n",
    "    max = -1\n",
    "    for account in accounts:\n",
    "        if sum(account) > max:\n",
    "            max = sum(account)\n",
    "    return max\n",
    "\n",
    "ans = maximumWealth([[1,2,3],[3,2,1]])\n",
    "assert ans == 6\n",
    "\n",
    "ans = maximumWealth([[1,5],[7,3],[3,5]])\n",
    "assert ans == 10\n",
    "\n",
    "ans = maximumWealth([[2,8,7],[7,1,3],[1,9,5]])\n",
    "assert ans == 17"
   ]
  }
 ],
 "metadata": {
  "kernelspec": {
   "display_name": "Python 3",
   "language": "python",
   "name": "python3"
  },
  "language_info": {
   "codemirror_mode": {
    "name": "ipython",
    "version": 3
   },
   "file_extension": ".py",
   "mimetype": "text/x-python",
   "name": "python",
   "nbconvert_exporter": "python",
   "pygments_lexer": "ipython3",
   "version": "3.10.1"
  },
  "orig_nbformat": 4
 },
 "nbformat": 4,
 "nbformat_minor": 2
}

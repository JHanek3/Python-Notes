{
 "cells": [
  {
   "attachments": {},
   "cell_type": "markdown",
   "metadata": {},
   "source": [
    "# 2610. Convert an Array Into a 2D Array With Conditions (Medium)\n",
    "You are given an integer array nums. You need to create a 2D array from nums satisfying the following conditions:\n",
    "- The 2D array should contain only the elements of the array nums.\n",
    "- Each row in the 2D array contains distinct integers.\n",
    "- The number of rows in the 2D array should be minimal.<br/>\n",
    "\n",
    "Return the resulting array. If there are multiple answers, return any of them.<br/>\n",
    "Note that the 2D array can have a different number of elements on each row.<br/>\n",
    "\n",
    "### Examples\n",
    "Input: nums = [1,3,4,1,2,3,1]<br/>\n",
    "Output: [[1,3,4,2],[1,3],[1]]<br/>\n",
    "\n",
    "Input: nums = [1,2,3,4]<br/>\n",
    "Output: [[4,3,2,1]]<br/>"
   ]
  },
  {
   "cell_type": "code",
   "execution_count": 37,
   "metadata": {},
   "outputs": [],
   "source": [
    "from collections import Counter\n",
    "def findMatrix(nums):\n",
    "    \"\"\"\n",
    "    :type nums: List[int]\n",
    "    :rtype: List[List[int]]\n",
    "    \"\"\"\n",
    "    # c = Counter(nums)\n",
    "    # If you cant use counter\n",
    "    c = {}\n",
    "    for num in nums:\n",
    "        if num not in c.keys():\n",
    "            c[num] = 1\n",
    "        else:\n",
    "            c[num] += 1 \n",
    "\n",
    "    maxVal = max(c.values())\n",
    "    lst = [[] for _ in range(maxVal)]\n",
    "    \n",
    "    for k, v in list(c.items()):\n",
    "        for i in range(v):\n",
    "            lst[i].append(k)\n",
    "    \n",
    "    return lst\n",
    "\n",
    "# Hard to assert because the arrays returned will be random and any combinations of numbers\n",
    "# within the array is allowed\n",
    "ans = findMatrix([1,3,4,1,2,3,1])\n",
    "assert ans == [[1,3,4,2],[1,3],[1]]\n",
    "\n",
    "ans = findMatrix([1,2,3,4])\n",
    "assert ans == [[1, 2, 3, 4]]"
   ]
  }
 ],
 "metadata": {
  "kernelspec": {
   "display_name": "Python 3",
   "language": "python",
   "name": "python3"
  },
  "language_info": {
   "codemirror_mode": {
    "name": "ipython",
    "version": 3
   },
   "file_extension": ".py",
   "mimetype": "text/x-python",
   "name": "python",
   "nbconvert_exporter": "python",
   "pygments_lexer": "ipython3",
   "version": "3.10.1"
  },
  "orig_nbformat": 4
 },
 "nbformat": 4,
 "nbformat_minor": 2
}

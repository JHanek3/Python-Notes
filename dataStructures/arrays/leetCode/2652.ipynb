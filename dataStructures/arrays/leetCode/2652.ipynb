{
 "cells": [
  {
   "attachments": {},
   "cell_type": "markdown",
   "metadata": {},
   "source": [
    "# 2652. Sum Multiples (Easy)\n",
    "Given a positive integer n, <br/>\n",
    "find the sum of all integers in the range [1, n] inclusive that are divisible by 3, 5, or 7.<br/>\n",
    "\n",
    "Return an integer denoting the sum of all numbers in the given range satisfying the constraint.<br/>\n",
    "\n",
    "### Examples\n",
    "Input: n = 7<br/>\n",
    "Output: 21<br/>\n",
    "\n",
    "Input: n = 10<br/>\n",
    "Output: 40<br/>\n",
    "\n",
    "Input: n = 9<br/>\n",
    "Output: 30"
   ]
  },
  {
   "cell_type": "code",
   "execution_count": 6,
   "metadata": {},
   "outputs": [],
   "source": [
    "def sumOfMultiples(n):\n",
    "    \"\"\"\n",
    "    :type n: int\n",
    "    :rtype: int\n",
    "    \"\"\"\n",
    "    sum = 0\n",
    "    for i in range(1, n+1):\n",
    "        if i % 3 == 0 or i % 5 == 0 or i % 7 == 0:\n",
    "            sum += i\n",
    "    return sum\n",
    "\n",
    "ans = sumOfMultiples(7)\n",
    "assert ans == 21\n",
    "\n",
    "ans = sumOfMultiples(10)\n",
    "assert ans == 40\n",
    "\n",
    "ans = sumOfMultiples(9)\n",
    "assert ans == 30"
   ]
  }
 ],
 "metadata": {
  "kernelspec": {
   "display_name": "Python 3",
   "language": "python",
   "name": "python3"
  },
  "language_info": {
   "codemirror_mode": {
    "name": "ipython",
    "version": 3
   },
   "file_extension": ".py",
   "mimetype": "text/x-python",
   "name": "python",
   "nbconvert_exporter": "python",
   "pygments_lexer": "ipython3",
   "version": "3.10.1"
  },
  "orig_nbformat": 4
 },
 "nbformat": 4,
 "nbformat_minor": 2
}

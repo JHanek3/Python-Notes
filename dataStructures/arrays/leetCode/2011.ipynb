{
 "cells": [
  {
   "attachments": {},
   "cell_type": "markdown",
   "metadata": {},
   "source": [
    "# 2011. Final Value of Variable After Performing Operations (Easy)\n",
    "There is a programming language with only four operations and one variable X:\n",
    "- ++X and X++ increments the value of the variable X by 1.\n",
    "- --X and X-- decrements the value of the variable X by 1.\n",
    "\n",
    "Initially, the value of X is 0.<br/>\n",
    "Given an array of strings operations containing a list of operations, return the final value of X after performing all the operations. <br/>\n",
    "\n",
    "### Examples:\n",
    "Input: operations = [\"--X\",\"X++\",\"X++\"]<br/>\n",
    "Output: 1<br/>\n",
    "Explanation: The operations are performed as follows:<br/>\n",
    "&nbsp;&nbsp;&nbsp;&nbsp;Initially, X = 0.<br/>\n",
    "&nbsp;&nbsp;&nbsp;&nbsp;--X: X is decremented by 1, X =  0 - 1 = -1.<br/>\n",
    "&nbsp;&nbsp;&nbsp;&nbsp;X++: X is incremented by 1, X = -1 + 1 =  0.<br/>\n",
    "&nbsp;&nbsp;&nbsp;&nbsp;X++: X is incremented by 1, X =  0 + 1 =  1.<br/>\n",
    "\n",
    "Input: operations = [\"++X\",\"++X\",\"X++\"]<br/>\n",
    "Output: 3<br/>\n",
    "Explanation: The operations are performed as follows:<br/>\n",
    "&nbsp;&nbsp;&nbsp;&nbsp;Initially, X = 0.<br/>\n",
    "&nbsp;&nbsp;&nbsp;&nbsp;++X: X is incremented by 1, X = 0 + 1 = 1.<br/>\n",
    "&nbsp;&nbsp;&nbsp;&nbsp;++X: X is incremented by 1, X = 1 + 1 = 2.<br/>\n",
    "&nbsp;&nbsp;&nbsp;&nbsp;X++: X is incremented by 1, X = 2 + 1 = 3.<br/>\n",
    "\n",
    "Input: operations = [\"X++\",\"++X\",\"--X\",\"X--\"]<br/>\n",
    "Output: 0<br/>\n",
    "Explanation: The operations are performed as follows:<br/>\n",
    "&nbsp;&nbsp;&nbsp;&nbsp;Initially, X = 0.<br/>\n",
    "&nbsp;&nbsp;&nbsp;&nbsp;X++: X is incremented by 1, X = 0 + 1 = 1.<br/>\n",
    "&nbsp;&nbsp;&nbsp;&nbsp;++X: X is incremented by 1, X = 1 + 1 = 2.<br/>\n",
    "&nbsp;&nbsp;&nbsp;&nbsp;--X: X is decremented by 1, X = 2 - 1 = 1.<br/>\n",
    "&nbsp;&nbsp;&nbsp;&nbsp;X--: X is decremented by 1, X = 1 - 1 = 0.<br/>"
   ]
  },
  {
   "cell_type": "code",
   "execution_count": 5,
   "metadata": {},
   "outputs": [],
   "source": [
    "def finalValueAfterOperation(operations):\n",
    "    \"\"\"\n",
    "    :type operations: List[str]\n",
    "    :rtype: int\n",
    "    \"\"\"\n",
    "    x = 0\n",
    "    for opo in operations:\n",
    "        if \"+\" in opo:\n",
    "            x += 1\n",
    "        else:\n",
    "            x -= 1\n",
    "    return x\n",
    "\n",
    "ans = finalValueAfterOperation([\"--X\",\"X++\",\"X++\"])\n",
    "assert ans == 1\n",
    "\n",
    "ans = finalValueAfterOperation([\"++X\",\"++X\",\"X++\"])\n",
    "assert ans == 3\n",
    "\n",
    "ans = finalValueAfterOperation([\"X++\",\"++X\",\"--X\",\"X--\"])\n",
    "assert ans == 0\n",
    "    \n"
   ]
  }
 ],
 "metadata": {
  "kernelspec": {
   "display_name": "Python 3",
   "language": "python",
   "name": "python3"
  },
  "language_info": {
   "codemirror_mode": {
    "name": "ipython",
    "version": 3
   },
   "file_extension": ".py",
   "mimetype": "text/x-python",
   "name": "python",
   "nbconvert_exporter": "python",
   "pygments_lexer": "ipython3",
   "version": "3.10.1"
  },
  "orig_nbformat": 4
 },
 "nbformat": 4,
 "nbformat_minor": 2
}

{
 "cells": [
  {
   "attachments": {},
   "cell_type": "markdown",
   "metadata": {},
   "source": [
    "# 1512. Number of Good Pairs\n",
    "Given an array of integers nums, return the number of good pairs.<br/>\n",
    "A pair (i, j) is called good if nums[i] == nums[j] and i < j.\n",
    "\n",
    "### Examples:\n",
    "Input: nums = [1,2,3,1,1,3]<br/>\n",
    "Output: 4<br/>\n",
    "Explanation: There are 4 good pairs (0,3), (0,4), (3,4), (2,5) 0-indexed.<br/>\n",
    "\n",
    "Input: nums = [1,1,1,1]<br/>\n",
    "Output: 6<br/>\n",
    "Explanation: Each pair in the array are good.<br/>\n",
    "\n",
    "Input: nums = [1,2,3]<br/>\n",
    "Output: 0\n"
   ]
  },
  {
   "cell_type": "code",
   "execution_count": 7,
   "metadata": {},
   "outputs": [],
   "source": [
    "def numIdenticalPairs(nums):\n",
    "    pair = 0\n",
    "    for i in range(len(nums)):\n",
    "        for val in nums[i+1:]:\n",
    "            if nums[i] == val: pair +=1\n",
    "    return pair\n",
    "\n",
    "ans = numIdenticalPairs([1,2,3,1,1,3])\n",
    "assert ans == 4\n",
    "\n",
    "ans = numIdenticalPairs([1,1,1,1])\n",
    "assert ans == 6\n",
    "\n",
    "ans = numIdenticalPairs([1,2,3])\n",
    "assert ans == 0"
   ]
  }
 ],
 "metadata": {
  "kernelspec": {
   "display_name": "Python 3",
   "language": "python",
   "name": "python3"
  },
  "language_info": {
   "codemirror_mode": {
    "name": "ipython",
    "version": 3
   },
   "file_extension": ".py",
   "mimetype": "text/x-python",
   "name": "python",
   "nbconvert_exporter": "python",
   "pygments_lexer": "ipython3",
   "version": "3.10.1"
  },
  "orig_nbformat": 4
 },
 "nbformat": 4,
 "nbformat_minor": 2
}

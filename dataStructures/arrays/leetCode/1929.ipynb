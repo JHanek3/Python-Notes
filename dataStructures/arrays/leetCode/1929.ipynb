{
 "cells": [
  {
   "attachments": {},
   "cell_type": "markdown",
   "metadata": {},
   "source": [
    "# 1929. Concatenation of Array\n",
    "Given an integer array nums of length n, you want to create an array ans of length 2n where ans[i] == nums[i] and ans[i + n] == nums[i] for 0 <= i < n (0-indexed).<br/>\n",
    "Specifically, ans is the concatenation of two nums arrays.<br/>\n",
    "Return the array ans.<br/>\n",
    "\n",
    "### Examples:\n",
    "Input: nums = [1,2,1]<br/>\n",
    "Output: [1,2,1,1,2,1]<br/>\n",
    "Explanation: The array ans is formed as follows:<br/>\n",
    "&nbsp;&nbsp;&nbsp;&nbsp;ans = [nums[0],nums[1],nums[2],nums[0],nums[1],nums[2]]<br/>\n",
    "&nbsp;&nbsp;&nbsp;&nbsp;ans = [1,2,1,1,2,1]<br/>\n",
    "\n",
    "Input: nums = [1,3,2,1]<br/>\n",
    "Output: [1,3,2,1,1,3,2,1]<br/>\n",
    "Explanation: The array ans is formed as follows:<br/>\n",
    "&nbsp;&nbsp;&nbsp;&nbsp;ans = [nums[0],nums[1],nums[2],nums[3],nums[0],nums[1],nums[2],nums[3]]<br/>\n",
    "&nbsp;&nbsp;&nbsp;&nbsp;ans = [1,3,2,1,1,3,2,1]"
   ]
  },
  {
   "cell_type": "code",
   "execution_count": 15,
   "metadata": {},
   "outputs": [],
   "source": [
    "from array import *\n",
    "\n",
    "# I may not need to convert to array?\n",
    "def getConcatentation(nums):\n",
    "    # We know its i because of constraint 1 <= n <= 1000 and that the problem states\n",
    "    # Given an integer array\n",
    "    array_ = array(\"i\", nums)\n",
    "    for x in nums:\n",
    "        # array_.insert(len(array_), x)\n",
    "        array_.append(x)\n",
    "    return array_\n",
    "\n",
    "def getConcatentationFaster(nums):\n",
    "    return nums + nums\n",
    "\n",
    "def getConcatentationFasterFaster(nums):\n",
    "    ans = nums * 2\n",
    "    return ans\n",
    "\n",
    "ans = getConcatentation([1,2,1])\n",
    "assert ans == array(\"i\",[1,2,1,1,2,1])\n",
    "\n",
    "ans = getConcatentation([1,3,2,1])\n",
    "assert ans == array(\"i\",[1,3,2,1,1,3,2,1])"
   ]
  }
 ],
 "metadata": {
  "kernelspec": {
   "display_name": "Python 3",
   "language": "python",
   "name": "python3"
  },
  "language_info": {
   "codemirror_mode": {
    "name": "ipython",
    "version": 3
   },
   "file_extension": ".py",
   "mimetype": "text/x-python",
   "name": "python",
   "nbconvert_exporter": "python",
   "pygments_lexer": "ipython3",
   "version": "3.10.1"
  },
  "orig_nbformat": 4
 },
 "nbformat": 4,
 "nbformat_minor": 2
}

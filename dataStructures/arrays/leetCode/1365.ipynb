{
 "cells": [
  {
   "attachments": {},
   "cell_type": "markdown",
   "metadata": {},
   "source": [
    "# 1365. How Many Numbers Are Smaller Than the Current Number (Easy)\n",
    "Given the array nums, for each nums[i] find out how many numbers in the array are smaller than it.<br/> \n",
    "That is, for each nums[i] you have to count the number of valid j's such that j != i and nums[j] < nums[i].<br/>\n",
    "Return the answer in an array.\n",
    "\n",
    "### Examples\n",
    "Input: nums = [8,1,2,2,3]<br/>\n",
    "Output: [4,0,1,1,3]<br/>\n",
    "Explanation: <br/>\n",
    "- For nums[0]=8 there exist four smaller numbers than it (1, 2, 2 and 3)\n",
    "- For nums[1]=1 does not exist any smaller number than it\n",
    "- For nums[2]=2 there exist one smaller number than it (1)\n",
    "- For nums[3]=2 there exist one smaller number than it (1) \n",
    "- For nums[4]=3 there exist three smaller numbers than it (1, 2 and 2)\n",
    "\n",
    "Input: nums = [6,5,4,8]<br/>\n",
    "Output: [2,1,0,3]<br/>\n",
    "\n",
    "Input: nums = [7,7,7,7]<br/>\n",
    "Output: [0,0,0,0]<br/>"
   ]
  },
  {
   "cell_type": "code",
   "execution_count": 2,
   "metadata": {},
   "outputs": [],
   "source": [
    "# Don't like the double iteration, curious to see if theres something instead\n",
    "def smallerNumbersThanCurrent(nums):\n",
    "    finArr = []\n",
    "    for i in range(len(nums)):\n",
    "        count = 0\n",
    "        for val in nums:\n",
    "            if nums[i] > val:\n",
    "                count +=1\n",
    "        finArr.append(count)\n",
    "    return finArr\n",
    "\n",
    "def smallerNumbersThanCurrentFaster(nums):\n",
    "        ans=sorted(nums)\n",
    "        hm=dict()\n",
    "        result=[]\n",
    "        for i in range(len(ans)):\n",
    "            if ans[i] not in hm:\n",
    "                hm[ans[i]]=i\n",
    "        for i in range(len(nums)):\n",
    "            result.append(hm[nums[i]])\n",
    "        return result\n",
    "\n",
    "ans = smallerNumbersThanCurrent([8,1,2,2,3])\n",
    "assert ans == [4,0,1,1,3]\n",
    "\n",
    "ans = smallerNumbersThanCurrent([6,5,4,8])\n",
    "assert ans == [2,1,0,3]\n",
    "\n",
    "ans = smallerNumbersThanCurrent([7,7,7,7])\n",
    "assert ans == [0,0,0,0]"
   ]
  }
 ],
 "metadata": {
  "kernelspec": {
   "display_name": "Python 3",
   "language": "python",
   "name": "python3"
  },
  "language_info": {
   "codemirror_mode": {
    "name": "ipython",
    "version": 3
   },
   "file_extension": ".py",
   "mimetype": "text/x-python",
   "name": "python",
   "nbconvert_exporter": "python",
   "pygments_lexer": "ipython3",
   "version": "3.10.1"
  },
  "orig_nbformat": 4
 },
 "nbformat": 4,
 "nbformat_minor": 2
}

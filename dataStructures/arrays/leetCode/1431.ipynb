{
 "cells": [
  {
   "attachments": {},
   "cell_type": "markdown",
   "metadata": {},
   "source": [
    "# 1431. Kids With the Greatest Number of Candies (Easy)\n",
    "There are n kids with candies. You are given an integer array candies, where each candies[i]<br/>\n",
    "represents the number of candies the ith kid has, and an integer extraCandies, denoting the number of extra candies that you have<br/>\n",
    "\n",
    "Return a boolean array result of length n, where result[i] is true if, after giving the ith kid all the extraCandies,<br/> \n",
    "they will have the greatest number of candies among all the kids, or false otherwise<br/>\n",
    "\n",
    "Note that multiple kids can have the greatest number of candies and that equal too also counts towards greatest\n",
    "\n",
    "### Examples:\n",
    "Input: candies = [2,3,5,1,3], extraCandies = 3<br/>\n",
    "Output: [true,true,true,false,true]<br/>\n",
    "Explanation: If you give all extraCandies to:<br/>\n",
    "- Kid 1, they will have 2 + 3 = 5 candies, which is the greatest among the kids<br/>\n",
    "- Kid 2, they will have 3 + 3 = 6 candies, which is the greatest among the kids<br/>\n",
    "- Kid 3, they will have 5 + 3 = 8 candies, which is the greatest among the kids<br/>\n",
    "- Kid 4, they will have 1 + 3 = 4 candies, which is not the greatest among the kids<br/>\n",
    "- Kid 5, they will have 3 + 3 = 6 candies, which is the greatest among the kids<br/>\n",
    "\n",
    "Input: candies = [4,2,1,1,2], extraCandies = 1<br/>\n",
    "Output: [true,false,false,false,false]<br/>\n",
    "Explanation: There is only 1 extra candy<br/>\n",
    "- Kid 1 will always have the greatest number of candies, even if a different kid is given the extra candy<br/>\n",
    "\n",
    "Input: candies = [12,1,12], extraCandies = 10<br/>\n",
    "Output: [true,false,true]<br/>\n"
   ]
  },
  {
   "cell_type": "code",
   "execution_count": 3,
   "metadata": {},
   "outputs": [],
   "source": [
    "def kidsWithCandies(candies, extraCandies):\n",
    "    finArr = []\n",
    "    max_ = max(candies)\n",
    "    for kid in candies:\n",
    "        if kid + extraCandies >= max_:\n",
    "            finArr.append(True)\n",
    "        else:\n",
    "            finArr.append(False)\n",
    "    return finArr\n",
    "\n",
    "ans = kidsWithCandies([2,3,5,1,3], 3)\n",
    "assert ans == [True,True,True,False,True]\n",
    "\n",
    "ans = kidsWithCandies([2,3,5,1,3], 3)\n",
    "assert ans == [True,True,True,False,True]\n",
    "\n",
    "ans = kidsWithCandies([4,2,1,1,2], 1)\n",
    "assert ans == [True,False,False,False,False]\n",
    "\n",
    "ans = kidsWithCandies([12,1,12], 10)\n",
    "assert ans == [True,False,True] "
   ]
  }
 ],
 "metadata": {
  "kernelspec": {
   "display_name": "Python 3",
   "language": "python",
   "name": "python3"
  },
  "language_info": {
   "codemirror_mode": {
    "name": "ipython",
    "version": 3
   },
   "file_extension": ".py",
   "mimetype": "text/x-python",
   "name": "python",
   "nbconvert_exporter": "python",
   "pygments_lexer": "ipython3",
   "version": "3.10.1"
  },
  "orig_nbformat": 4
 },
 "nbformat": 4,
 "nbformat_minor": 2
}

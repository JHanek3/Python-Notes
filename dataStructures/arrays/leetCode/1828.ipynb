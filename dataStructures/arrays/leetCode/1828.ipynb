{
 "cells": [
  {
   "cell_type": "code",
   "execution_count": 9,
   "metadata": {},
   "outputs": [
    {
     "name": "stdout",
     "output_type": "stream",
     "text": [
      "[1, 3]\n",
      "[2, 2]\n"
     ]
    },
    {
     "ename": "AssertionError",
     "evalue": "",
     "output_type": "error",
     "traceback": [
      "\u001b[1;31m---------------------------------------------------------------------------\u001b[0m",
      "\u001b[1;31mAssertionError\u001b[0m                            Traceback (most recent call last)",
      "\u001b[1;32mc:\\Users\\JHanek\\OneDrive - Continental Electrical Construction Co\\Desktop\\pyNotes\\dataStructures\\arrays\\leetCode\\1828.ipynb Cell 1\u001b[0m in \u001b[0;36m<module>\u001b[1;34m\u001b[0m\n\u001b[0;32m     <a href='vscode-notebook-cell:/c%3A/Users/JHanek/OneDrive%20-%20Continental%20Electrical%20Construction%20Co/Desktop/pyNotes/dataStructures/arrays/leetCode/1828.ipynb#W0sZmlsZQ%3D%3D?line=25'>26</a>\u001b[0m     \u001b[39mreturn\u001b[39;00m finArr\n\u001b[0;32m     <a href='vscode-notebook-cell:/c%3A/Users/JHanek/OneDrive%20-%20Continental%20Electrical%20Construction%20Co/Desktop/pyNotes/dataStructures/arrays/leetCode/1828.ipynb#W0sZmlsZQ%3D%3D?line=27'>28</a>\u001b[0m ans \u001b[39m=\u001b[39m countPoints([[\u001b[39m1\u001b[39m,\u001b[39m3\u001b[39m],[\u001b[39m3\u001b[39m,\u001b[39m3\u001b[39m],[\u001b[39m5\u001b[39m,\u001b[39m3\u001b[39m],[\u001b[39m2\u001b[39m,\u001b[39m2\u001b[39m]],  [[\u001b[39m1\u001b[39m,\u001b[39m1\u001b[39m,\u001b[39m2\u001b[39m]])\n\u001b[1;32m---> <a href='vscode-notebook-cell:/c%3A/Users/JHanek/OneDrive%20-%20Continental%20Electrical%20Construction%20Co/Desktop/pyNotes/dataStructures/arrays/leetCode/1828.ipynb#W0sZmlsZQ%3D%3D?line=28'>29</a>\u001b[0m \u001b[39massert\u001b[39;00m ans \u001b[39m==\u001b[39m [\u001b[39m3\u001b[39m,\u001b[39m2\u001b[39m,\u001b[39m2\u001b[39m]\n",
      "\u001b[1;31mAssertionError\u001b[0m: "
     ]
    }
   ],
   "source": [
    "def countPoints(points, queries):\n",
    "    \"\"\"\n",
    "    :type points: List[List[int]]\n",
    "    :type queries: List[List[int]]\n",
    "    :rtype: List[int]\n",
    "    Had to look up the equation to find points within a circle\n",
    "    (x - center_x)² + (y - center_y)² < radius²\n",
    "    < is for points in a circle\n",
    "    = is for points on the circle\n",
    "    > is for points outside the circle\n",
    "    \"\"\"\n",
    "\n",
    "    finArr = []\n",
    "    for q in queries:\n",
    "        centerX = q[0]\n",
    "        centerY = q[1]\n",
    "        r = q[2] ** 2\n",
    "\n",
    "        count = 0\n",
    "        for point in points:\n",
    "            if ((point[0] - centerX) **2 + (point[1] - centerY) ** 2) <= r:\n",
    "                count += 1\n",
    "        finArr.append(count)\n",
    "    \n",
    "    return finArr\n",
    "\n",
    "ans = countPoints([[1,3],[3,3],[5,3],[2,2]],  [[1,1,2]])\n",
    "assert ans == [3,2,2]"
   ]
  }
 ],
 "metadata": {
  "kernelspec": {
   "display_name": "Python 3",
   "language": "python",
   "name": "python3"
  },
  "language_info": {
   "codemirror_mode": {
    "name": "ipython",
    "version": 3
   },
   "file_extension": ".py",
   "mimetype": "text/x-python",
   "name": "python",
   "nbconvert_exporter": "python",
   "pygments_lexer": "ipython3",
   "version": "3.10.1"
  },
  "orig_nbformat": 4
 },
 "nbformat": 4,
 "nbformat_minor": 2
}

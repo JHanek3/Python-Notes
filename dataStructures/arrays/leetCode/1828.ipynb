{
 "cells": [
  {
   "attachments": {},
   "cell_type": "markdown",
   "metadata": {},
   "source": [
    "# 1828. Queries on Number of Points Inside a Circle (Medium)\n",
    "You are given an array points where points[i] = [xi, yi] is the coordinates of the ith point on a 2D plane.<br/> \n",
    "Multiple points can have the same coordinates.<br/>\n",
    "You are also given an array queries where queries[j] = [xj, yj, rj] describes a circle centered at (xj, yj) with a radius of rj.<br/>\n",
    "For each query queries[j], compute the number of points inside the jth circle. Points on the border of the circle are considered inside.<br/>\n",
    "Return an array answer, where answer[j] is the answer to the jth query.<br/>\n",
    "\n",
    "### Examples\n",
    "Input: points = [[1,3],[3,3],[5,3],[2,2]], queries = [[2,3,1],[4,3,1],[1,1,2]]<br/>\n",
    "Output: [3,2,2]<br/>\n",
    "\n",
    "Input: points = [[1,1],[2,2],[3,3],[4,4],[5,5]], queries = [[1,2,2],[2,2,2],[4,3,2],[4,3,3]]<br/>\n",
    "Output: [2,3,2,4]<br/>"
   ]
  },
  {
   "cell_type": "code",
   "execution_count": 12,
   "metadata": {},
   "outputs": [],
   "source": [
    "def countPoints(points, queries):\n",
    "    \"\"\"\n",
    "    :type points: List[List[int]]\n",
    "    :type queries: List[List[int]]\n",
    "    :rtype: List[int]\n",
    "    Had to look up the equation to find points within a circle\n",
    "    (x - center_x)² + (y - center_y)² < radius²\n",
    "    < is for points in a circle\n",
    "    = is for points on the circle\n",
    "    > is for points outside the circle\n",
    "    \"\"\"\n",
    "\n",
    "    finArr = []\n",
    "    for q in queries:\n",
    "        centerX = q[0]\n",
    "        centerY = q[1]\n",
    "        r = q[2] ** 2\n",
    "\n",
    "        count = 0\n",
    "        for point in points:\n",
    "            if ((point[0] - centerX) **2 + (point[1] - centerY) ** 2) <= r:\n",
    "                count += 1\n",
    "        finArr.append(count)\n",
    "    \n",
    "    return finArr\n",
    "\n",
    "ans = countPoints([[1,3],[3,3],[5,3],[2,2]],  [[2,3,1],[4,3,1],[1,1,2]])\n",
    "assert ans == [3,2,2]\n",
    "\n",
    "ans = countPoints([[1,1],[2,2],[3,3],[4,4],[5,5]],  [[1,2,2],[2,2,2],[4,3,2],[4,3,3]])\n",
    "assert ans == [2,3,2,4]"
   ]
  }
 ],
 "metadata": {
  "kernelspec": {
   "display_name": "Python 3",
   "language": "python",
   "name": "python3"
  },
  "language_info": {
   "codemirror_mode": {
    "name": "ipython",
    "version": 3
   },
   "file_extension": ".py",
   "mimetype": "text/x-python",
   "name": "python",
   "nbconvert_exporter": "python",
   "pygments_lexer": "ipython3",
   "version": "3.10.1"
  },
  "orig_nbformat": 4
 },
 "nbformat": 4,
 "nbformat_minor": 2
}

{
 "cells": [
  {
   "attachments": {},
   "cell_type": "markdown",
   "metadata": {},
   "source": [
    "# 1528. Shuffle String (Easy)\n",
    "You are given a string s and an integer array indices of the same length.<br/> \n",
    "The string s will be shuffled such that the character at the ith position moves to indices[i] in the shuffled string.<br/>\n",
    "Return the shuffled string.<br/>\n",
    "\n",
    "### Examples\n",
    "Input: s = \"codeleet\", indices = [4,5,6,7,0,2,1,3]<br/>\n",
    "Output: \"leetcode\"<br/>\n",
    "\n",
    "Input: s = \"abc\", indices = [0,1,2]<br/>\n",
    "Output: \"abc\""
   ]
  },
  {
   "cell_type": "code",
   "execution_count": 8,
   "metadata": {},
   "outputs": [],
   "source": [
    "def restoreString(s, indices):\n",
    "    \"\"\"\n",
    "    :type s: str\n",
    "    :type indices: List[int]\n",
    "    :rtype: str    \"\"\"\n",
    "    finArr = [None] * len(indices)\n",
    "    for i, c in enumerate(indices):\n",
    "        finArr[c] = s[i]\n",
    "    return \"\".join(finArr)\n",
    "    \n",
    "ans = restoreString(\"codeleet\", [4,5,6,7,0,2,1,3])\n",
    "assert ans == \"leetcode\"\n",
    "\n",
    "ans = restoreString(\"abc\", [0,1,2])\n",
    "assert ans == \"abc\""
   ]
  },
  {
   "cell_type": "markdown",
   "metadata": {},
   "source": []
  }
 ],
 "metadata": {
  "kernelspec": {
   "display_name": "Python 3",
   "language": "python",
   "name": "python3"
  },
  "language_info": {
   "codemirror_mode": {
    "name": "ipython",
    "version": 3
   },
   "file_extension": ".py",
   "mimetype": "text/x-python",
   "name": "python",
   "nbconvert_exporter": "python",
   "pygments_lexer": "ipython3",
   "version": "3.10.1"
  },
  "orig_nbformat": 4
 },
 "nbformat": 4,
 "nbformat_minor": 2
}

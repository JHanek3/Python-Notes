{
 "cells": [
  {
   "attachments": {},
   "cell_type": "markdown",
   "metadata": {},
   "source": [
    "# 2114. Maximum Number of Words Found in Sentences (Easy)\n",
    "A sentence is a list of words that are separated by a single space with no leading or trailing spaces<br/>\n",
    "You are given an array of strings sentences, where each sentences[i] represents a single sentence<br/>\n",
    "Return the maximum number of words that appear in a single sentence\n",
    "\n",
    "### Examples\n",
    "Input: sentences = [\"alice and bob love leetcode\", \"i think so too\", \"this is great thanks very much\"]<br/>\n",
    "Output: 6<br/>\n",
    "Explanation:\n",
    "- The first sentence, \"alice and bob love leetcode\", has 5 words in total<br/>\n",
    "- The second sentence, \"i think so too\", has 4 words in total<br/>\n",
    "- The third sentence, \"this is great thanks very much\", has 6 words in total<br/>\n",
    "Thus, the maximum number of words in a single sentence comes from the third sentence, which has 6 words<br/>\n",
    "\n",
    "Input: sentences = [\"please wait\", \"continue to fight\", \"continue to win\"]<br/>\n",
    "Output: 3<br/>\n",
    "Explanation: \n",
    "- It is possible that multiple sentences contain the same number of words. <br/>\n",
    "- In this example, the second and third sentences (underlined) have the same number of words.\n"
   ]
  },
  {
   "cell_type": "code",
   "execution_count": 8,
   "metadata": {},
   "outputs": [],
   "source": [
    "def mostWordsFound(sentences):\n",
    "    max = 0\n",
    "    for sentence in sentences:\n",
    "        len_ = len(sentence.split(\" \"))\n",
    "        if len_ > max: max = len_ \n",
    "    return max\n",
    "\n",
    "ans = mostWordsFound([\"alice and bob love leetcode\", \"i think so too\", \"this is great thanks very much\"])\n",
    "assert ans == 6\n",
    "\n",
    "ans = mostWordsFound([\"please wait\", \"continue to fight\", \"continue to win\"])\n",
    "assert ans == 3\n"
   ]
  }
 ],
 "metadata": {
  "kernelspec": {
   "display_name": "Python 3",
   "language": "python",
   "name": "python3"
  },
  "language_info": {
   "codemirror_mode": {
    "name": "ipython",
    "version": 3
   },
   "file_extension": ".py",
   "mimetype": "text/x-python",
   "name": "python",
   "nbconvert_exporter": "python",
   "pygments_lexer": "ipython3",
   "version": "3.10.1"
  },
  "orig_nbformat": 4
 },
 "nbformat": 4,
 "nbformat_minor": 2
}

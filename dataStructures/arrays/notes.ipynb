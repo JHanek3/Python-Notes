{
 "cells": [
  {
   "attachments": {},
   "cell_type": "markdown",
   "metadata": {},
   "source": [
    "# Arrays\n",
    "Liner data structure that is defined as a collection of elements with same or different data types<br/>\n",
    "Can be single or multiple dimensions<br/>\n",
    "Use when you want to store multiple elements of a similar nature together at one place\n",
    "\n",
    "### Terms\n",
    "Element - Each item stored in an array is called an element<br/>\n",
    "Index - Each location of an element in an array has a numerical index, that identifies the index<br/>\n",
    "Time Complexity - The amount of time taken by an alogirthm to run, as a function of the length of the input<br/>\n",
    "Space Complexity - The amount of memory space used by an algorithm, including the space of input values for execution\n",
    "\n",
    "### Need for Arrays\n",
    "Small sorting problems to more complex problems like the traveling salesperson<br/>\n",
    "What makes arrays better than other data structures with efficient time and space complexity?<br/>\n",
    "&nbsp;&nbsp;&nbsp;&nbsp;Random Access Lookup Time\n",
    "\n",
    "### Arrays provide O(1) random access lookup time\n",
    "The 1st index and 1000th index time to access is the same<br/>\n",
    "Arrays come with a pointer and an offset value<br/>\n",
    "&nbsp;&nbsp;&nbsp;&nbsp;Pointer points to the location in memory<br/>\n",
    "&nbsp;&nbsp;&nbsp;&nbsp;Offset value shows how far to look in said memory\n",
    "\n",
    "### Basic Operations\n",
    "- Traverse - print all the array elements one by one\n",
    "- Insertion - Adds an alement at the given index\n",
    "- Deletion - Deletes an element at the given index\n",
    "- Search - Searches an element using the given index or by the value\n",
    "- Update - Updates an element at the given index\n",
    "\n",
    "### Python Notes\n",
    "An array is faster than a list in python since all the elements stored in an array are homogenous<br/>"
   ]
  },
  {
   "cell_type": "code",
   "execution_count": 21,
   "metadata": {},
   "outputs": [
    {
     "name": "stdout",
     "output_type": "stream",
     "text": [
      "10\n",
      "20\n",
      "30\n",
      "40\n",
      "50\n"
     ]
    }
   ],
   "source": [
    "from array import *\n",
    "\n",
    "\"\"\"\n",
    "Creating an array\n",
    "\n",
    "arrayName = array(typecode, [Initializers])\n",
    "b => Represents signed interger of size 1 byte\n",
    "B => Represents unsigned integer of size 1 byte\n",
    "c => Represents character of size 1 byte\n",
    "i => Represents signed integer of size 2 bytes\n",
    "I => Represents unsigned integer of size 2 bytes\n",
    "f => Represents floating point of size 4 bytes\n",
    "d => Represents floating point of size 8 bytes\n",
    "\"\"\"\n",
    "\n",
    "array_ = array('i', [10,20,30,40,50])\n",
    "for x in array_:\n",
    "    print(x)"
   ]
  },
  {
   "cell_type": "code",
   "execution_count": 22,
   "metadata": {},
   "outputs": [
    {
     "name": "stdout",
     "output_type": "stream",
     "text": [
      "10\n",
      "30\n"
     ]
    }
   ],
   "source": [
    "\"\"\"\n",
    "Accessing Array Element\n",
    "    Use the index\n",
    "\"\"\"\n",
    "array_ = array('i', [10,20,30,40,50])\n",
    "print(array_[0])\n",
    "print(array_[2])\n"
   ]
  },
  {
   "cell_type": "code",
   "execution_count": 23,
   "metadata": {},
   "outputs": [
    {
     "name": "stdout",
     "output_type": "stream",
     "text": [
      "10\n",
      "20\n",
      "30\n",
      "40\n",
      "50\n",
      "60\n",
      "70\n",
      "80\n"
     ]
    }
   ],
   "source": [
    "\"\"\"\n",
    "Insertion Operation\n",
    "    Inserts one or more data elements into an array\n",
    "    Added at the beginning, end or given index\n",
    "    Its inserted at that index and pushes everyone back\n",
    "When you are inserting multiple times in a row, remember that the index shifts\n",
    "\"\"\"\n",
    "array_ = array('i', [20,30,50,60,70])\n",
    "array_.insert(0, 10)\n",
    "# array_.insert(2, 40)\n",
    "array_.insert(3, 40)\n",
    "# Fascinating, not at the end of the array\n",
    "# array_.insert(-1, 80)\n",
    "# 10, 20, 30, 40, 50, 60, 80, 70\n",
    "\n",
    "array_.insert(7, 80)\n",
    "# could also use 8 .etc\n",
    "\n",
    "\n",
    "for x in array_:\n",
    "    print(x)"
   ]
  },
  {
   "cell_type": "code",
   "execution_count": 24,
   "metadata": {},
   "outputs": [
    {
     "name": "stdout",
     "output_type": "stream",
     "text": [
      "10\n",
      "20\n",
      "40\n",
      "50\n"
     ]
    }
   ],
   "source": [
    "\"\"\"\n",
    "Deletion Operation\n",
    "    Removing an existing element from the array and re-organizing all elemnts of an array\n",
    "    Existing element, not index\n",
    "\"\"\"\n",
    "array_ = array('i', [10,20,30,40,50])\n",
    "array_.remove(30)\n",
    "\n",
    "for x in array_:\n",
    "    print(x)"
   ]
  },
  {
   "cell_type": "code",
   "execution_count": 25,
   "metadata": {},
   "outputs": [
    {
     "name": "stdout",
     "output_type": "stream",
     "text": [
      "2\n"
     ]
    }
   ],
   "source": [
    "\"\"\"\n",
    "Search Operation\n",
    "    You can perform a search for an array element based on its value or its index\n",
    "\"\"\"\n",
    "array_ = array('i', [10,20,30,40,50])\n",
    "print(array_.index(30))"
   ]
  },
  {
   "cell_type": "code",
   "execution_count": 26,
   "metadata": {},
   "outputs": [
    {
     "name": "stdout",
     "output_type": "stream",
     "text": [
      "10\n",
      "20\n",
      "25\n",
      "40\n",
      "50\n"
     ]
    }
   ],
   "source": [
    "\"\"\"\n",
    "Update Operation\n",
    "    Refers to updating an existing element from the array at a given index\n",
    "\"\"\"\n",
    "array_ = array('i', [10,20,30,40,50])\n",
    "array_[2] = 25\n",
    "for x in array_:\n",
    "    print(x)"
   ]
  }
 ],
 "metadata": {
  "kernelspec": {
   "display_name": "Python 3",
   "language": "python",
   "name": "python3"
  },
  "language_info": {
   "codemirror_mode": {
    "name": "ipython",
    "version": 3
   },
   "file_extension": ".py",
   "mimetype": "text/x-python",
   "name": "python",
   "nbconvert_exporter": "python",
   "pygments_lexer": "ipython3",
   "version": "3.10.1"
  },
  "orig_nbformat": 4
 },
 "nbformat": 4,
 "nbformat_minor": 2
}

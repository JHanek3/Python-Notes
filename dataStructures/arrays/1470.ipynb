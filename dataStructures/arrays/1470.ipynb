{
 "cells": [
  {
   "attachments": {},
   "cell_type": "markdown",
   "metadata": {},
   "source": [
    "# 1470. Shuffle the Array\n",
    "Given the array nums consisting of 2n elements in the form [x1,x2,...,xn,y1,y2,...,yn]<br/>\n",
    "Return the array in the form [x1,y1,x2,y2,...,xn,yn]<br/>\n",
    "\n",
    "### Examples\n",
    "Input: nums = [2,5,1,3,4,7], n = 3<br/>\n",
    "Output: [2,3,5,4,1,7]<br/>\n",
    "Explanation: Since x1=2, x2=5, x3=1, y1=3, y2=4, y3=7 then the answer is [2,3,5,4,1,7]<br/>\n",
    "\n",
    "Input: nums = [1,2,3,4,4,3,2,1], n = 4<br/>\n",
    "Output: [1,4,2,3,3,2,4,1]<br/>\n",
    "\n",
    "Input: nums = [1,1,2,2], n = 2<br/>\n",
    "Output: [1,2,1,2]<br/>"
   ]
  },
  {
   "cell_type": "code",
   "execution_count": 17,
   "metadata": {},
   "outputs": [],
   "source": [
    "from array import *\n",
    "# It says given the array nums, seeing the name 'array' I'm going to assume that its constructed like\n",
    "# nums = array(\"i\", [1,2,3]) .etc\n",
    "def shuffle(nums, n):\n",
    "    finArr = array(\"i\", [])\n",
    "    for x in range(n):\n",
    "        finArr.append(nums[x])\n",
    "        finArr.append(nums[x+n])\n",
    "    return finArr\n",
    "\n",
    "# YoUR SoLUTion IS slOWeR CaUse YOy mADE an aRRay noT []\n",
    "# This is lame\n",
    "def shuffleFaster(nums, n):\n",
    "    res = []\n",
    "    for i in range(n):\n",
    "        res.append(nums[i])\n",
    "        res.append(nums[n+i])\n",
    "    return res\n",
    "\n",
    "ans = shuffle([2,5,1,3,4,7],3)\n",
    "assert ans == array(\"i\",[2,3,5,4,1,7])\n",
    "\n",
    "ans = shuffle([1,2,3,4,4,3,2,1],4)\n",
    "assert ans == array(\"i\",[1,4,2,3,3,2,4,1])\n",
    "\n",
    "ans = shuffle([1,1,2,2],2)\n",
    "assert ans == array(\"i\",[1,2,1,2])\n"
   ]
  }
 ],
 "metadata": {
  "kernelspec": {
   "display_name": "Python 3",
   "language": "python",
   "name": "python3"
  },
  "language_info": {
   "codemirror_mode": {
    "name": "ipython",
    "version": 3
   },
   "file_extension": ".py",
   "mimetype": "text/x-python",
   "name": "python",
   "nbconvert_exporter": "python",
   "pygments_lexer": "ipython3",
   "version": "3.10.1"
  },
  "orig_nbformat": 4
 },
 "nbformat": 4,
 "nbformat_minor": 2
}

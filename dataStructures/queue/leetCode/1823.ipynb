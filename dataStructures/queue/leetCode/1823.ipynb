{
 "cells": [
  {
   "attachments": {},
   "cell_type": "markdown",
   "metadata": {},
   "source": [
    "# 1823. Find the Winner of the Circular Game (Medium)\n",
    "There are n friends that are playing a game.<br/> \n",
    "The friends are sitting in a circle and are numbered from 1 to n in clockwise order.<br/> \n",
    "More formally, moving clockwise from the ith friend brings you to the (i+1)th friend for 1 <= i < n, and moving clockwise from the nth friend brings you to the 1st friend.<br/>\n",
    "The rules of the game are as follows:\n",
    "- Start at the 1st friend.\n",
    "- Count the next k friends in the clockwise direction including the friend you started at. \n",
    "- - The counting wraps around the circle and may count some friends more than once.\n",
    "- The last friend you counted leaves the circle and loses the game.\n",
    "- If there is still more than one friend in the circle, go back to step 2 starting from the friend immediately clockwise of the friend who just lost and repeat.\n",
    "- Else, the last friend in the circle wins the game.<br/>\n",
    "Given the number of friends, n, and an integer k, return the winner of the game.\n",
    "### Examples\n",
    "Input: n = 5, k = 2<br/>\n",
    "Output: 3<br/>\n",
    "Explanation: Here are the steps of the game:\n",
    "- Start at friend 1.\n",
    "- Count 2 friends clockwise, which are friends 1 and 2.\n",
    "- Friend 2 leaves the circle. Next start is friend 3.\n",
    "- Count 2 friends clockwise, which are friends 3 and 4.\n",
    "- Friend 4 leaves the circle. Next start is friend 5.\n",
    "- Count 2 friends clockwise, which are friends 5 and 1.\n",
    "- Friend 1 leaves the circle. Next start is friend 3.\n",
    "- Count 2 friends clockwise, which are friends 3 and 5.\n",
    "- Friend 5 leaves the circle. Only friend 3 is left, so they are the winner.\n",
    "\n",
    "Input: n = 6, k = 5<br/>\n",
    "Output: 1<br/>\n",
    "Explanation: The friends leave in this order: 5, 4, 6, 2, 3.<br/> \n",
    "The winner is friend 1."
   ]
  },
  {
   "cell_type": "code",
   "execution_count": 4,
   "metadata": {},
   "outputs": [],
   "source": [
    "def findTheWinner(n, k):\n",
    "    \"\"\"\n",
    "    :type n: int\n",
    "    :type k: int\n",
    "    :rtype: int\n",
    "    \"\"\" \n",
    "    # For some reason you can't adjust a deque while iterating through it, so just used a list instead.\n",
    "    q = [i for i in range(1, n + 1)]\n",
    "    count = 0\n",
    "    while len(q) != 1:\n",
    "        count += 1\n",
    "        \n",
    "        if count == k:\n",
    "            del q[0]\n",
    "            count = 0\n",
    "        else:\n",
    "            q.append(q[0])\n",
    "            del q[0]\n",
    "\n",
    "    return q[0]\n",
    "\n",
    "assert findTheWinner(5,2) == 3\n",
    "assert findTheWinner(6,5) == 1"
   ]
  }
 ],
 "metadata": {
  "kernelspec": {
   "display_name": "Python 3",
   "language": "python",
   "name": "python3"
  },
  "language_info": {
   "codemirror_mode": {
    "name": "ipython",
    "version": 3
   },
   "file_extension": ".py",
   "mimetype": "text/x-python",
   "name": "python",
   "nbconvert_exporter": "python",
   "pygments_lexer": "ipython3",
   "version": "3.10.1"
  },
  "orig_nbformat": 4
 },
 "nbformat": 4,
 "nbformat_minor": 2
}

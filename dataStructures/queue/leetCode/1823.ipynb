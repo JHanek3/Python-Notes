{
 "cells": [
  {
   "cell_type": "code",
   "execution_count": 98,
   "metadata": {},
   "outputs": [],
   "source": [
    "def findTheWinner(n, k):\n",
    "    \"\"\"\n",
    "    :type n: int\n",
    "    :type k: int\n",
    "    :rtype: int\n",
    "    \"\"\" \n",
    "    # For some reason you can't adjust a deque while iterating through it, so just used a list instead.\n",
    "    q = [i for i in range(1, n + 1)]\n",
    "    count = 0\n",
    "    while len(q) != 1:\n",
    "        count += 1\n",
    "        \n",
    "        if count == k:\n",
    "            del q[0]\n",
    "            count = 0\n",
    "        else:\n",
    "            q.append(q[0])\n",
    "            del q[0]\n",
    "\n",
    "    return q[0]\n",
    "\n",
    "assert findTheWinner(5,2) == 3\n",
    "assert findTheWinner(6,5) == 1"
   ]
  }
 ],
 "metadata": {
  "kernelspec": {
   "display_name": "Python 3",
   "language": "python",
   "name": "python3"
  },
  "language_info": {
   "codemirror_mode": {
    "name": "ipython",
    "version": 3
   },
   "file_extension": ".py",
   "mimetype": "text/x-python",
   "name": "python",
   "nbconvert_exporter": "python",
   "pygments_lexer": "ipython3",
   "version": "3.10.1"
  },
  "orig_nbformat": 4
 },
 "nbformat": 4,
 "nbformat_minor": 2
}

{
 "cells": [
  {
   "cell_type": "code",
   "execution_count": 15,
   "metadata": {},
   "outputs": [
    {
     "name": "stdout",
     "output_type": "stream",
     "text": [
      "deque([1, 1, 1])\n"
     ]
    },
    {
     "data": {
      "text/plain": [
       "3"
      ]
     },
     "execution_count": 15,
     "metadata": {},
     "output_type": "execute_result"
    }
   ],
   "source": [
    "from collections import deque\n",
    "def countStudents(students, sandwiches):\n",
    "    \"\"\"\n",
    "    :type students: List[int]\n",
    "    :type sandwiches: List[int]\n",
    "    :rtype: int\n",
    "    \"\"\"\n",
    "    q = deque(students)\n",
    "    for sandwhich in sandwiches[:3]:\n",
    "        while q[0] != sandwhich:\n",
    "            q.append(q.popleft())\n",
    "            if sandwhich not in q:\n",
    "                return len(q)\n",
    "            # if q[0] not in sandwiches:\n",
    "            #     break\n",
    "        q.popleft()\n",
    "    print(q)\n",
    "    return len(q)\n",
    "\n",
    "# countStudents([1,1,0,0], [0,1,0,1])\n",
    "countStudents([1,1,1,0,0,1], [1,0,0,0,1,1])"
   ]
  }
 ],
 "metadata": {
  "kernelspec": {
   "display_name": "Python 3",
   "language": "python",
   "name": "python3"
  },
  "language_info": {
   "codemirror_mode": {
    "name": "ipython",
    "version": 3
   },
   "file_extension": ".py",
   "mimetype": "text/x-python",
   "name": "python",
   "nbconvert_exporter": "python",
   "pygments_lexer": "ipython3",
   "version": "3.10.1"
  },
  "orig_nbformat": 4
 },
 "nbformat": 4,
 "nbformat_minor": 2
}

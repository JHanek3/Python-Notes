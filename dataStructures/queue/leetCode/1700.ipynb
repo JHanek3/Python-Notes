{
 "cells": [
  {
   "attachments": {},
   "cell_type": "markdown",
   "metadata": {},
   "source": [
    "# 1700. Number of Students Unable to Eat Lunch (Easy)\n",
    "The school cafeteria offers circular and square sandwiches at lunch break, referred to by numbers 0 and 1 respectively.<br/>\n",
    "All students stand in a queue. Each student either prefers square or circular sandwiches.<br/><br/>\n",
    "The number of sandwiches in the cafeteria is equal to the number of students. The sandwiches are placed in a stack. At each step:\n",
    "- If the student at the front of the queue prefers the sandwich on the top of the stack, they will take it and leave the queue.\n",
    "- Otherwise, they will leave it and go to the queue's end.<br/>\n",
    "This continues until none of the queue students want to take the top sandwich and are thus unable to eat.\n",
    "\n",
    "You are given two integer arrays students and sandwiches where sandwiches[i] is the type of the i​​​​​​th sandwich in the stack (i = 0 is the top of the stack) and students[j] is the preference of the j​​​​​​th student in the initial queue (j = 0 is the front of the queue).<br/>\n",
    "Return the number of students that are unable to eat.\n",
    "\n",
    "### Examples\n",
    "Input:<br/>\n",
    "students = [1,1,0,0], sandwiches = [0,1,0,1]<br/>\n",
    "Output: 0 <br/>\n",
    "\n",
    "Explanation:<br/>\n",
    "- Front student leaves the top sandwich and returns to the end of the line making students = [1,0,0,1].\n",
    "- Front student leaves the top sandwich and returns to the end of the line making students = [0,0,1,1].\n",
    "- Front student takes the top sandwich and leaves the line making students = [0,1,1] and sandwiches = [1,0,1].\n",
    "- Front student leaves the top sandwich and returns to the end of the line making students = [1,1,0].\n",
    "- Front student takes the top sandwich and leaves the line making students = [1,0] and sandwiches = [0,1].\n",
    "- Front student leaves the top sandwich and returns to the end of the line making students = [0,1].\n",
    "- Front student takes the top sandwich and leaves the line making students = [1] and sandwiches = [1].\n",
    "- Front student takes the top sandwich and leaves the line making students = [] and sandwiches = [].<br/>\n",
    "Hence all students are able to eat.<br/>\n",
    "\n",
    "Input:<br/> \n",
    "students = [1,1,1,0,0,1], sandwiches = [1,0,0,0,1,1]<br/>\n",
    "Output: 3"
   ]
  },
  {
   "cell_type": "code",
   "execution_count": 25,
   "metadata": {},
   "outputs": [],
   "source": [
    "from collections import deque\n",
    "def countStudents(students, sandwiches):\n",
    "    \"\"\"\n",
    "    :type students: List[int]\n",
    "    :type sandwiches: List[int]\n",
    "    :rtype: int\n",
    "    \"\"\"\n",
    "    q = deque(students)\n",
    "    for sandwhich in sandwiches:\n",
    "        while q[0] != sandwhich:\n",
    "            q.append(q.popleft())\n",
    "            if sandwhich not in q:\n",
    "                return len(q)\n",
    "        q.popleft()\n",
    "    return len(q)\n",
    "\n",
    "assert countStudents([1,1,0,0], [0,1,0,1]) == 0\n",
    "assert countStudents([1,1,1,0,0,1], [1,0,0,0,1,1]) == 3"
   ]
  }
 ],
 "metadata": {
  "kernelspec": {
   "display_name": "Python 3",
   "language": "python",
   "name": "python3"
  },
  "language_info": {
   "codemirror_mode": {
    "name": "ipython",
    "version": 3
   },
   "file_extension": ".py",
   "mimetype": "text/x-python",
   "name": "python",
   "nbconvert_exporter": "python",
   "pygments_lexer": "ipython3",
   "version": "3.10.1"
  },
  "orig_nbformat": 4
 },
 "nbformat": 4,
 "nbformat_minor": 2
}

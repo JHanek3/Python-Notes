{
 "cells": [
  {
   "attachments": {},
   "cell_type": "markdown",
   "metadata": {},
   "source": [
    "# 232. Implement Queue using Stacks (Easy)\n",
    "Implement a first in first out (FIFO) queue using only two stacks.<br/> \n",
    "The implemented queue should support all the functions of a normal queue (push, peek, pop, and empty).<br/>\n",
    "Implement the MyQueue class:\n",
    "- void push(int x) Pushes element x to the back of the queue.\n",
    "- int pop() Removes the element from the front of the queue and returns it.\n",
    "- int peek() Returns the element at the front of the queue.\n",
    "- boolean empty() Returns true if the queue is empty, false otherwise.\n",
    "\n",
    "### Examples\n",
    "Input:<br/>\n",
    "[\"MyQueue\", \"push\", \"push\", \"peek\", \"pop\", \"empty\"]<br/>\n",
    "[[], [1], [2], [], [], []]<br/><br/>\n",
    "Output:<br/>\n",
    "[null, null, null, 1, 1, false]<br/>\n",
    "Explanation:<br/>\n",
    "- MyQueue myQueue = new MyQueue();\n",
    "- myQueue.push(1); // queue is: [1]\n",
    "- myQueue.push(2); // queue is: [1, 2] (leftmost is front of the queue)\n",
    "- myQueue.peek(); // return 1\n",
    "- myQueue.pop(); // return 1, queue is [2]\n",
    "- myQueue.empty(); // return false"
   ]
  },
  {
   "cell_type": "code",
   "execution_count": null,
   "metadata": {},
   "outputs": [],
   "source": [
    "class MyQueue(object):\n",
    "\n",
    "    def __init__(self):\n",
    "        self.s1 = []\n",
    "        self.s2 = []\n",
    "\n",
    "    def push(self, x):\n",
    "        while self.s1:\n",
    "            self.s2.append(self.s1.pop())\n",
    "        self.s1.append(x)\n",
    "        while self.s2:\n",
    "            self.s1.append(self.s2.pop())\n",
    "\n",
    "    def pop(self):\n",
    "        return self.s1.pop()\n",
    "\n",
    "    def peek(self):\n",
    "        return self.s1[-1]\n",
    "\n",
    "    def empty(self):\n",
    "        return not self.s1\n",
    "\n",
    "myQueue = MyQueue()\n",
    "myQueue.push(1)\n",
    "myQueue.push(2)\n",
    "assert myQueue.peek() == 1\n",
    "assert myQueue.pop() == 1\n",
    "assert myQueue.empty() == False"
   ]
  }
 ],
 "metadata": {
  "kernelspec": {
   "display_name": "Python 3",
   "language": "python",
   "name": "python3"
  },
  "language_info": {
   "codemirror_mode": {
    "name": "ipython",
    "version": 3
   },
   "file_extension": ".py",
   "mimetype": "text/x-python",
   "name": "python",
   "nbconvert_exporter": "python",
   "pygments_lexer": "ipython3",
   "version": "3.10.1"
  },
  "orig_nbformat": 4
 },
 "nbformat": 4,
 "nbformat_minor": 2
}

{
 "cells": [
  {
   "attachments": {},
   "cell_type": "markdown",
   "metadata": {},
   "source": [
    "# 2073. Time Needed to Buy Tickets (Easy)\n",
    "There are n people in a line queuing to buy tickets, where the 0th person is at the front of the line and the (n - 1)th person is at the back of the line.<br/>\n",
    "You are given a 0-indexed integer array tickets of length n where the number of tickets that the ith person would like to buy is tickets[i].<br/>\n",
    "Each person takes exactly 1 second to buy a ticket.<br/> \n",
    "A person can only buy 1 ticket at a time and has to go back to the end of the line (which happens instantaneously) in order to buy more tickets.<br/> \n",
    "If a person does not have any tickets left to buy, the person will leave the line.<br/>\n",
    "Return the time taken for the person at position k (0-indexed) to finish buying tickets.\n",
    "\n",
    "### Examples\n",
    "Input: tickets = [2,3,2], k = 2<br/>\n",
    "Output: 6<br/>\n",
    "Explanation:\n",
    "- In the first pass, everyone in the line buys a ticket and the line becomes [1, 2, 1].\n",
    "- In the second pass, everyone in the line buys a ticket and the line becomes [0, 1, 0].<br/>\n",
    "The person at position 2 has successfully bought 2 tickets and it took 3 + 3 = 6 seconds.<br/>\n",
    "\n",
    "Input: tickets = [5,1,1,1], k = 0<br/> \n",
    "Output: 8<br/>\n",
    "Explanation:\n",
    "- In the first pass, everyone in the line buys a ticket and the line becomes [4, 0, 0, 0].\n",
    "- In the next 4 passes, only the person in position 0 is buying tickets.<br/>\n",
    "The person at position 0 has successfully bought 5 tickets and it took 4 + 1 + 1 + 1 + 1 = 8 seconds."
   ]
  },
  {
   "cell_type": "code",
   "execution_count": 121,
   "metadata": {},
   "outputs": [],
   "source": [
    "def timeRequiredToBuy(tickets, k):\n",
    "    \"\"\"\n",
    "    :type tickets: List[int]\n",
    "    :type k: int\n",
    "    :rtype: int\n",
    "    \"\"\"\n",
    "    time = [0 for i in range(len(tickets))]\n",
    "    ids = [i for i in range(len(tickets))]\n",
    "    dic = { k:v for (k,v) in zip(ids, time)}\n",
    "    \n",
    "    index = 0\n",
    "    seconds = 0\n",
    "    while sum(tickets) != 0:\n",
    "\n",
    "        # If there are no tickets left to be purchased, just skip them\n",
    "        if tickets[0] == 0:\n",
    "            tickets.append(tickets[0])\n",
    "            del tickets[0]\n",
    "\n",
    "        else:\n",
    "            # Increase the amount of time and add it to the dictionary\n",
    "            seconds += 1\n",
    "            dic[index] = seconds\n",
    "\n",
    "            # Remove left, append to the end\n",
    "            tickets.append(tickets[0] - 1)\n",
    "            del tickets[0]\n",
    "        \n",
    "        # Reset the index for the dictionary\n",
    "        if index == (len(tickets) - 1):\n",
    "            index = 0\n",
    "        else:\n",
    "            index += 1\n",
    "    return dic[k]\n",
    "\n",
    "    # Faster\n",
    "    # time = 0\n",
    "    # for i in range(k+1):\n",
    "    #     time += min(tickets[i], tickets[k])\n",
    "    # for i in range(k+1, len(tickets)):\n",
    "    #     time += min(tickets[i], tickets[k]-1)\n",
    "    # return time\n",
    "\n",
    "assert timeRequiredToBuy([2,3,2], 2) == 6\n",
    "assert timeRequiredToBuy([5,1,1,1], 0) == 8"
   ]
  }
 ],
 "metadata": {
  "kernelspec": {
   "display_name": "Python 3",
   "language": "python",
   "name": "python3"
  },
  "language_info": {
   "codemirror_mode": {
    "name": "ipython",
    "version": 3
   },
   "file_extension": ".py",
   "mimetype": "text/x-python",
   "name": "python",
   "nbconvert_exporter": "python",
   "pygments_lexer": "ipython3",
   "version": "3.10.1"
  },
  "orig_nbformat": 4
 },
 "nbformat": 4,
 "nbformat_minor": 2
}

{
 "cells": [
  {
   "attachments": {},
   "cell_type": "markdown",
   "metadata": {},
   "source": [
    "# 933. Number of Recent Calls (Easy)\n",
    "You have a RecentCounter class which counts the number of recent requests within a certain time frame<br/>\n",
    "Implement the RecentCounter class:<br>\n",
    "- RecentCounter() Initializes the counter with zero recent requests.\n",
    "- int ping(int t) Adds a new request at time t, where t represents some time in milliseconds, and returns the number of requests that has happened in the past 3000 milliseconds (including the new request). Specifically, return the number of requests that have happened in the inclusive range [t - 3000, t]<br/>\n",
    "\n",
    "It is guaranteed that every call to ping uses a strictly larger value of t than the previous call.\n",
    "\n",
    "### Examples\n",
    "Input:<br/>\n",
    "[\"RecentCounter\", \"ping\", \"ping\", \"ping\", \"ping\"]<br/>\n",
    "[[], [1], [100], [3001], [3002]]<br/><br/>\n",
    "Output:<br/>\n",
    "[null, 1, 2, 3, 3]<br/>\n",
    "\n",
    "Explanation:<br/>\n",
    "- RecentCounter recentCounter = new RecentCounter();\n",
    "- recentCounter.ping(1);     // requests = [1], range is [-2999,1], return 1\n",
    "- recentCounter.ping(100);   // requests = [1, 100], range is [-2900,100], return 2\n",
    "- recentCounter.ping(3001);  // requests = [1, 100, 3001], range is [1,3001], return 3\n",
    "- recentCounter.ping(3002);  // requests = [1, 100, 3001, 3002], range is [2,3002], return 3"
   ]
  },
  {
   "cell_type": "code",
   "execution_count": 32,
   "metadata": {},
   "outputs": [],
   "source": [
    "from collections import deque\n",
    "class RecentCounter(object):\n",
    "\n",
    "    def __init__(self):\n",
    "        self.q = deque()\n",
    "        \n",
    "\n",
    "    def ping(self, t):\n",
    "        \"\"\"\n",
    "        :type t: int\n",
    "        :rtype: int\n",
    "        \"\"\"\n",
    "        self.q.append(t)\n",
    "\n",
    "        while self.q[-1] - self.q[0] >= 3001:\n",
    "            self.q.popleft()\n",
    "\n",
    "        # Could also be written as\n",
    "        # while self.q[0] < t - 3000:\n",
    "        #     self.q.popleft()    \n",
    "        \n",
    "        return len(self.q)\n",
    "\n",
    "\n",
    "recentCounter = RecentCounter()\n",
    "assert recentCounter.ping(1) == 1\n",
    "assert recentCounter.ping(100) == 2\n",
    "assert recentCounter.ping(3001) == 3\n",
    "assert recentCounter.ping(3002) == 3\n",
    "\n",
    "recentCounter = RecentCounter()\n",
    "assert recentCounter.ping(642) == 1\n",
    "assert recentCounter.ping(1849) == 2\n",
    "assert recentCounter.ping(4921) == 1\n",
    "assert recentCounter.ping(5936) == 2\n",
    "assert recentCounter.ping(5957) == 3"
   ]
  }
 ],
 "metadata": {
  "kernelspec": {
   "display_name": "Python 3",
   "language": "python",
   "name": "python3"
  },
  "language_info": {
   "codemirror_mode": {
    "name": "ipython",
    "version": 3
   },
   "file_extension": ".py",
   "mimetype": "text/x-python",
   "name": "python",
   "nbconvert_exporter": "python",
   "pygments_lexer": "ipython3",
   "version": "3.10.1"
  },
  "orig_nbformat": 4
 },
 "nbformat": 4,
 "nbformat_minor": 2
}

{
 "cells": [
  {
   "attachments": {},
   "cell_type": "markdown",
   "metadata": {},
   "source": [
    "# 232. Implement Queue using Stacks (Easy)\n",
    "Given a string s, find the first non-repeating character in it and return its index. If it does not exist, return -1.<br/>"
   ]
  },
  {
   "cell_type": "code",
   "execution_count": 16,
   "metadata": {},
   "outputs": [],
   "source": [
    "from collections import deque\n",
    "def firstUniqChar(s):\n",
    "    \"\"\"\n",
    "    :type s: str\n",
    "    :rtype: int\n",
    "    \"\"\"\n",
    "    q = deque(s)\n",
    "    count = 0\n",
    "    while count != len(q):\n",
    "        c = q.popleft()\n",
    "        if c not in q:\n",
    "            return s.index(c)\n",
    "        else:\n",
    "            q.append(c)\n",
    "        count += 1\n",
    "    return -1\n",
    "        \n",
    "assert firstUniqChar('leetcode') == 0\n",
    "assert firstUniqChar('loveleetcode')\n",
    "assert firstUniqChar('aabb') == -1"
   ]
  },
  {
   "cell_type": "code",
   "execution_count": null,
   "metadata": {},
   "outputs": [],
   "source": []
  }
 ],
 "metadata": {
  "kernelspec": {
   "display_name": "Python 3",
   "language": "python",
   "name": "python3"
  },
  "language_info": {
   "codemirror_mode": {
    "name": "ipython",
    "version": 3
   },
   "file_extension": ".py",
   "mimetype": "text/x-python",
   "name": "python",
   "nbconvert_exporter": "python",
   "pygments_lexer": "ipython3",
   "version": "3.10.1"
  },
  "orig_nbformat": 4
 },
 "nbformat": 4,
 "nbformat_minor": 2
}

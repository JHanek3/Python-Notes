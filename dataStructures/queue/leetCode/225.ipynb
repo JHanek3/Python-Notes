{
 "cells": [
  {
   "attachments": {},
   "cell_type": "markdown",
   "metadata": {},
   "source": [
    "# 225. Implement Stack using Queues (Easy)\n",
    "Implement a last-in-first-out (LIFO) stack using only two queues.<br/> \n",
    "The implemented stack should support all the functions of a normal stack (push, top, pop, and empty).<br/>\n",
    "\n",
    "Implement the MyStack class:\n",
    "- void push(int x) Pushes element x to the top of the stack.\n",
    "- int pop() Removes the element on the top of the stack and returns it.\n",
    "- int top() Returns the element on the top of the stack.\n",
    "- boolean empty() Returns true if the stack is empty, false otherwise.\n",
    "\n",
    "### Examples\n",
    "Input: [\"MyStack\", \"push\", \"push\", \"top\", \"pop\", \"empty\"], [[], [1], [2], [], [], []]<br/>\n",
    "Output: [null, null, null, 2, 2, false]<br/>\n",
    "\n",
    "Explanation:\n",
    "- MyStack myStack = new MyStack();\n",
    "- myStack.push(1);\n",
    "- myStack.push(2);\n",
    "- myStack.top(); // return 2\n",
    "- myStack.pop(); // return 2\n",
    "- myStack.empty(); // return False"
   ]
  },
  {
   "cell_type": "code",
   "execution_count": 1,
   "metadata": {},
   "outputs": [],
   "source": [
    "from collections import deque\n",
    "class MyStack(object):\n",
    "\n",
    "    def __init__(self):\n",
    "        self. q = deque()\n",
    "        \n",
    "\n",
    "    def push(self, x):\n",
    "        \"\"\"\n",
    "        :type x: int\n",
    "        :rtype: None\n",
    "        \"\"\"\n",
    "        self.q.append(x)\n",
    "        \n",
    "\n",
    "    def pop(self):\n",
    "        \"\"\"\n",
    "        :rtype: int\n",
    "        \"\"\"\n",
    "        # pop every val but the last one\n",
    "        for i in range(len(self.q) - 1):\n",
    "            self.push(self.q.popleft())\n",
    "        \n",
    "        # Pop the last one\n",
    "        return self.q.popleft()\n",
    "\n",
    "    def top(self):\n",
    "        \"\"\"\n",
    "        :rtype: int\n",
    "        \"\"\"\n",
    "        return self.q[-1]\n",
    "\n",
    "    def empty(self):\n",
    "        \"\"\"\n",
    "        :rtype: bool\n",
    "        \"\"\"\n",
    "        return len(self.q) == 0"
   ]
  }
 ],
 "metadata": {
  "kernelspec": {
   "display_name": "Python 3",
   "language": "python",
   "name": "python3"
  },
  "language_info": {
   "codemirror_mode": {
    "name": "ipython",
    "version": 3
   },
   "file_extension": ".py",
   "mimetype": "text/x-python",
   "name": "python",
   "nbconvert_exporter": "python",
   "pygments_lexer": "ipython3",
   "version": "3.10.1"
  },
  "orig_nbformat": 4
 },
 "nbformat": 4,
 "nbformat_minor": 2
}

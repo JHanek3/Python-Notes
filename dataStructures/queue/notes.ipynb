{
 "cells": [
  {
   "attachments": {},
   "cell_type": "markdown",
   "metadata": {},
   "source": [
    "# Queues\n",
    "Linear data structure store data in a first in, first out (FIFO) order<br/>\n",
    "Cannot be accessed by index, only pull the next oldest element (great for order sensitive tasks)<br/>\n",
    "Its better to use the deque class from Python's collections module.<br/>\n",
    "Python does not have a built in array type<br/>\n",
    "\n",
    "### Basic Operations, time complexity of O(1)\n",
    "- Enqueue - Adds an item to the queue, if the queue is full then an overflow condition is triggered\n",
    "- Dequeue - Removes an item from the queue. Items are popped in the same order they are pushed, if the queue is empty then it said to be an underflow condition\n",
    "- Front - Gives the front item from the queue\n",
    "- Rear - Gives the last item from the queue\n",
    "- isEmpty - Returns a bool if the queue is empty or not\n",
    "\n",
    "### Advantages:\n",
    "- Automatically orders data chronologically\n",
    "- Scales to meet size requirements\n",
    "- Time efficient with deque class\n",
    "\n",
    "### Disadvantages:\n",
    "- Can only access data on the ends\n",
    "\n",
    "### Applications\n",
    "- Applications on a shared resource like a printer or CPU core\n",
    "- Serve as temporary storage for batch systems\n",
    "- Provides an easy default order for tasks of equal importance"
   ]
  },
  {
   "cell_type": "code",
   "execution_count": null,
   "metadata": {},
   "outputs": [],
   "source": [
    "# Queue using a List (inefficient)\n",
    "\n",
    "class Queue:\n",
    "    def __init__(self):\n",
    "        self.queue = []\n",
    "    \n",
    "    def isEmpty(self):\n",
    "        return True if len(self.queue) == 0 else False\n",
    "    \n",
    "    def front(self):\n",
    "        return self.queue[-1]\n",
    "    \n",
    "    def rear(self):\n",
    "        return self.queue[0]\n",
    "    \n",
    "    def enqueue(self, x: int):\n",
    "        self.x = x\n",
    "        self.queue.insert(0, x)\n",
    "    \n",
    "    def dequeue(self):\n",
    "        self.queue.pop()\n"
   ]
  },
  {
   "cell_type": "code",
   "execution_count": 1,
   "metadata": {},
   "outputs": [
    {
     "name": "stdout",
     "output_type": "stream",
     "text": [
      "deque(['name', 'age', 'dob'])\n"
     ]
    }
   ],
   "source": [
    "from collections import deque\n",
    "queue = deque(['name', 'age', 'dob'])\n",
    "print(queue)"
   ]
  }
 ],
 "metadata": {
  "kernelspec": {
   "display_name": "Python 3",
   "language": "python",
   "name": "python3"
  },
  "language_info": {
   "codemirror_mode": {
    "name": "ipython",
    "version": 3
   },
   "file_extension": ".py",
   "mimetype": "text/x-python",
   "name": "python",
   "nbconvert_exporter": "python",
   "pygments_lexer": "ipython3",
   "version": "3.10.1"
  },
  "orig_nbformat": 4
 },
 "nbformat": 4,
 "nbformat_minor": 2
}

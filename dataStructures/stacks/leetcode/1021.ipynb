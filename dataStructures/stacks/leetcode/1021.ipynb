{
 "cells": [
  {
   "attachments": {},
   "cell_type": "markdown",
   "metadata": {},
   "source": [
    "# 844. Backspace String Compare (Easy)\n",
    "Given two strings s and t, return true if they are equal when both are typed into empty text editors.<br/> '#' means a backspace character.\n",
    "Note that after backspacing an empty text, the text will continue empty.<br/>\n",
    "\n",
    "### Examples\n",
    "Input: s = \"ab#c\", t = \"ad#c\"<br/>\n",
    "Output: true<br/>\n",
    "Explanation: Both s and t become \"ac\".<br/>\n",
    "\n",
    "Input: s = \"ab##\", t = \"c#d#\"<br/>\n",
    "Output: true<br/>\n",
    "Explanation: Both s and t become \"\".<br/>\n",
    "\n",
    "Input: s = \"a#c\", t = \"b\"<br/>\n",
    "Output: false<br/>\n",
    "Explanation: s becomes \"c\" while t becomes \"b\"."
   ]
  },
  {
   "cell_type": "code",
   "execution_count": 23,
   "metadata": {},
   "outputs": [],
   "source": [
    "# My Solution\n",
    "def backspaceCompare(s, t):\n",
    "    \"\"\"\n",
    "    :type s: str\n",
    "    :type t: str\n",
    "    :rtype: bool\n",
    "    \"\"\"\n",
    "    stack1 = []\n",
    "    stack2 = []\n",
    "\n",
    "    for c in s:\n",
    "        if stack1 and c == \"#\":\n",
    "            stack1.pop()\n",
    "        else:\n",
    "            stack1.append(c)\n",
    "\n",
    "    for c in t:\n",
    "        if stack2 and c == \"#\":\n",
    "            stack2.pop()\n",
    "        else:\n",
    "            stack2.append(c)\n",
    "\n",
    "    return \"\".join(stack1).replace(\"#\", \"\") == \"\".join(stack2).replace(\"#\", \"\")\n",
    "\n",
    "# Other solution, should've just used a function like this human\n",
    "# also notice the elif stack, thats really clever\n",
    "def backspaceCompare(s, t):\n",
    "    \n",
    "    def compress(s):\n",
    "        stack = []\n",
    "        for char in s:\n",
    "            if char != \"#\":\n",
    "                stack.append(char)\n",
    "            elif stack:\n",
    "                stack.pop()\n",
    "        return \"\".join(stack)\n",
    "\n",
    "    \n",
    "    return compress(s) == compress(t)\n",
    "\n",
    "assert backspaceCompare(\"ab#c\", \"ad#c\") == True\n",
    "assert backspaceCompare(\"ab##\", \"c#d#\") == True\n",
    "assert backspaceCompare(\"a#c\", \"b\") == False\n",
    "assert backspaceCompare(\"y#fo##f\", \"y#f#o##f\") == True\n",
    "assert backspaceCompare(\"a##c\", \"#a#c\") == True"
   ]
  }
 ],
 "metadata": {
  "kernelspec": {
   "display_name": "Python 3",
   "language": "python",
   "name": "python3"
  },
  "language_info": {
   "codemirror_mode": {
    "name": "ipython",
    "version": 3
   },
   "file_extension": ".py",
   "mimetype": "text/x-python",
   "name": "python",
   "nbconvert_exporter": "python",
   "pygments_lexer": "ipython3",
   "version": "3.10.1"
  },
  "orig_nbformat": 4
 },
 "nbformat": 4,
 "nbformat_minor": 2
}

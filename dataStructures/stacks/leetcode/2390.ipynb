{
 "cells": [
  {
   "attachments": {},
   "cell_type": "markdown",
   "metadata": {},
   "source": [
    "# 2390. Removing Stars From a String (Medium)\n",
    "You are given a string s, which contains stars *.<br/>\n",
    "In one operation, you can:\n",
    "- Choose a star in s.\n",
    "- Remove the closest non-star character to its left, as well as remove the star itself.<br/>\n",
    "Return the string after all stars have been removed.\n",
    "\n",
    "Note:\n",
    "- The input will be generated such that the operation is always possible.\n",
    "- It can be shown that the resulting string will always be unique.\n",
    " \n",
    "### Examples\n",
    "Input: s = \"leet**cod*e\"<br/>\n",
    "Output: \"lecoe\"<br/>\n",
    "Explanation: Performing the removals from left to right:\n",
    "- The closest character to the 1st star is 't' in \"leet**cod*e\". s becomes \"lee*cod*e\".\n",
    "- The closest character to the 2nd star is 'e' in \"lee*cod*e\". s becomes \"lecod*e\".\n",
    "- The closest character to the 3rd star is 'd' in \"lecod*e\". s becomes \"lecoe\".<br/>\n",
    "There are no more stars, so we return \"lecoe\".\n",
    "\n",
    "Input: s = \"erase*****\"<br/>\n",
    "Output: \"\"<br/>\n",
    "Explanation: The entire string is removed, so we return an empty string."
   ]
  },
  {
   "cell_type": "code",
   "execution_count": 1,
   "metadata": {},
   "outputs": [],
   "source": [
    "def removeStars(s):\n",
    "    \"\"\"\n",
    "    :type s: str\n",
    "    :rtype: str\n",
    "    \"\"\"\n",
    "    stack = []\n",
    "    for c in s:\n",
    "        if stack and c == \"*\":\n",
    "            stack.pop()\n",
    "        else:\n",
    "            stack.append(c)\n",
    "    return \"\".join(stack)\n",
    "\n",
    "assert removeStars(\"leet**cod*e\") == \"lecoe\"\n",
    "assert removeStars(\"erase*****\") == \"\""
   ]
  }
 ],
 "metadata": {
  "kernelspec": {
   "display_name": "Python 3",
   "language": "python",
   "name": "python3"
  },
  "language_info": {
   "codemirror_mode": {
    "name": "ipython",
    "version": 3
   },
   "file_extension": ".py",
   "mimetype": "text/x-python",
   "name": "python",
   "nbconvert_exporter": "python",
   "pygments_lexer": "ipython3",
   "version": "3.10.1"
  },
  "orig_nbformat": 4
 },
 "nbformat": 4,
 "nbformat_minor": 2
}

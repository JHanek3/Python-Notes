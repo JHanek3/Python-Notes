{
 "cells": [
  {
   "attachments": {},
   "cell_type": "markdown",
   "metadata": {},
   "source": [
    "# 1544. Make The String Great (Easy)\n",
    "Given a string s of lower and upper case English letters.<br/>\n",
    "A good string is a string which doesn't have two adjacent characters s[i] and s[i + 1] where:\n",
    "- 0 <= i <= s.length - 2\n",
    "- s[i] is a lower-case letter and s[i + 1] is the same letter but in upper-case or vice-versa.<br/>\n",
    "\n",
    "To make the string good, you can choose two adjacent characters that make the string bad and remove them. You can keep doing this until the string becomes good.<br/>\n",
    "Return the string after making it good. The answer is guaranteed to be unique under the given constraints.<br/>\n",
    "Notice that an empty string is also good.\n",
    "\n",
    "### Examples\n",
    "Input: s = \"leEeetcode\"<br/>\n",
    "Output: \"leetcode\"<br/>\n",
    "Explanation: In the first step, either you choose i = 1 or i = 2, both will result \"leEeetcode\" to be reduced to \"leetcode\".<br/>\n",
    "\n",
    "Input: s = \"abBAcC\"<br/>\n",
    "Output: \"\"<br/>\n",
    "Explanation: We have many possible scenarios, and all lead to the same answer. For example:\n",
    "- \"abBAcC\" --> \"aAcC\" --> \"cC\" --> \"\"\n",
    "- \"abBAcC\" --> \"abBA\" --> \"aA\" --> \"\"<br/>\n",
    "\n",
    "Input: s = \"s\"<br/>\n",
    "Output: \"s\""
   ]
  },
  {
   "cell_type": "code",
   "execution_count": 24,
   "metadata": {},
   "outputs": [],
   "source": [
    "def makeGood(s):\n",
    "    \"\"\"\n",
    "    :type s: str\n",
    "    :rtype: str\n",
    "    \"\"\"\n",
    "    stack = []\n",
    "    for c in s:\n",
    "        if stack and c.lower() == stack[-1].lower():\n",
    "            if (c.isupper() and stack[-1].islower()) or (c.islower() and stack[-1].isupper()):\n",
    "                stack.pop()\n",
    "            else:\n",
    "                stack.append(c)\n",
    "        else:\n",
    "            stack.append(c)\n",
    "    return \"\".join(stack)\n",
    "\n",
    "assert makeGood(\"leEeetcode\") == \"leetcode\"\n",
    "assert makeGood(\"lEeeetcode\") == \"leetcode\"\n",
    "assert makeGood(\"abBAcC\") == \"\"\n",
    "assert makeGood(\"s\") == \"s\""
   ]
  }
 ],
 "metadata": {
  "kernelspec": {
   "display_name": "Python 3",
   "language": "python",
   "name": "python3"
  },
  "language_info": {
   "codemirror_mode": {
    "name": "ipython",
    "version": 3
   },
   "file_extension": ".py",
   "mimetype": "text/x-python",
   "name": "python",
   "nbconvert_exporter": "python",
   "pygments_lexer": "ipython3",
   "version": "3.10.1"
  },
  "orig_nbformat": 4
 },
 "nbformat": 4,
 "nbformat_minor": 2
}

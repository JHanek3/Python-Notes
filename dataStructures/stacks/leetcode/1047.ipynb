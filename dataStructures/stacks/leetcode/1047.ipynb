{
 "cells": [
  {
   "attachments": {},
   "cell_type": "markdown",
   "metadata": {},
   "source": [
    "# 1047. Remove All Adjacent Duplicates In String (Easy)\n",
    "You are given a string s consisting of lowercase English letters.<br/> \n",
    "A duplicate removal consists of choosing two adjacent and equal letters and removing them.<br/>\n",
    "We repeatedly make duplicate removals on s until we no longer can.<br/>\n",
    "Return the final string after all such duplicate removals have been made. It can be proven that the answer is unique.<br/>\n",
    "\n",
    "### Examples\n",
    "Input: s = \"abbaca\"<br/>\n",
    "Output: \"ca\"<br/>\n",
    "Explanation: \n",
    "- In \"abbaca\" we could remove \"bb\" since the letters are adjacent and equal, and this is the only possible move.  \n",
    "- The result of this move is that the string is \"aaca\", of which only \"aa\" is possible\n",
    "- so the final string is \"ca\".\n",
    "\n",
    "Input: s = \"azxxzy\"<br/>\n",
    "Output: \"ay\""
   ]
  },
  {
   "cell_type": "code",
   "execution_count": 6,
   "metadata": {},
   "outputs": [],
   "source": [
    "def removeDuplicates(s):\n",
    "    \"\"\"\n",
    "    :type s: str\n",
    "    :rtype: str\n",
    "    \"\"\"\n",
    "    stack = []\n",
    "    for c in s:\n",
    "        if stack and stack[-1] == c:\n",
    "            stack.pop()\n",
    "        else:\n",
    "            stack.append(c)\n",
    "    return \"\".join(stack)\n",
    "\n",
    "assert removeDuplicates(\"abbaca\") == \"ca\"\n",
    "assert removeDuplicates(\"azxxzy\") == \"ay\"\n"
   ]
  }
 ],
 "metadata": {
  "kernelspec": {
   "display_name": "Python 3",
   "language": "python",
   "name": "python3"
  },
  "language_info": {
   "codemirror_mode": {
    "name": "ipython",
    "version": 3
   },
   "file_extension": ".py",
   "mimetype": "text/x-python",
   "name": "python",
   "nbconvert_exporter": "python",
   "pygments_lexer": "ipython3",
   "version": "3.10.1"
  },
  "orig_nbformat": 4
 },
 "nbformat": 4,
 "nbformat_minor": 2
}
